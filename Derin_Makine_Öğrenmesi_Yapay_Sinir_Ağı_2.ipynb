{
  "nbformat": 4,
  "nbformat_minor": 0,
  "metadata": {
    "coursera": {
      "course_slug": "neural-networks-deep-learning",
      "graded_item_id": "TSPse",
      "launcher_item_id": "24mxX"
    },
    "kernelspec": {
      "display_name": "Python 3",
      "language": "python",
      "name": "python3"
    },
    "language_info": {
      "codemirror_mode": {
        "name": "ipython",
        "version": 3
      },
      "file_extension": ".py",
      "mimetype": "text/x-python",
      "name": "python",
      "nbconvert_exporter": "python",
      "pygments_lexer": "ipython3",
      "version": "3.5.2"
    },
    "colab": {
      "name": "Derin Makine Öğrenmesi - Yapay Sinir Ağı Son",
      "provenance": [],
      "collapsed_sections": [],
      "toc_visible": true,
      "include_colab_link": true
    }
  },
  "cells": [
    {
      "cell_type": "markdown",
      "metadata": {
        "id": "view-in-github",
        "colab_type": "text"
      },
      "source": [
        "<a href=\"https://colab.research.google.com/github/mavzersener/derin_ogrenme/blob/master/Derin_Makine_%C3%96%C4%9Frenmesi_Yapay_Sinir_A%C4%9F%C4%B1_2.ipynb\" target=\"_parent\"><img src=\"https://colab.research.google.com/assets/colab-badge.svg\" alt=\"Open In Colab\"/></a>"
      ]
    },
    {
      "cell_type": "code",
      "metadata": {
        "colab": {
          "base_uri": "https://localhost:8080/"
        },
        "id": "Ex-Eft3ABtwy",
        "outputId": "f99ff41d-54bb-44de-ce9b-edb109d1693e"
      },
      "source": [
        "from google.colab import drive\r\n",
        "drive.mount('/content/drive')"
      ],
      "execution_count": 1,
      "outputs": [
        {
          "output_type": "stream",
          "text": [
            "Mounted at /content/drive\n"
          ],
          "name": "stdout"
        }
      ]
    },
    {
      "cell_type": "markdown",
      "metadata": {
        "id": "sSji0I-D4AQ1"
      },
      "source": [
        "# Yapay Sinir Ağının Resim Sınıflandırmasında Kullanımı: Pure Python Uygulaması\n",
        "\n",
        "Şener MAVZER -  06 Ocak 2021\n",
        "\n",
        "\n",
        "\n",
        "\n",
        "\n",
        "\n",
        "\n",
        "\n",
        "\n",
        "# Giriş\n",
        "> Bu çalışmada resimleri sınıflandırmak için python programa dili ile bir Gözetimli Öğrenme örneği yapay derin sinir ağı oluşturulacaktır. \n",
        "\n",
        "Makine öğrenmesi ve yapay zeka örneği olan Yapay Sinir ağları Öztemel(2003)'e göre insan beyninin en temel özelliği olan öğrenme fonksiyonunu gerçekleştiren bilgisayar sistemleridir. Öğrenme işlemini örnekler yardımı ile gerçekleştirirler. Bu ağlar birbirine bağlı yapay sinir hücrelerinden (nöronlar) oluşur. Her bağlantının bir ağırlık değeri vardır. Yapay sinir ağının sahip olduğu bilgi bu ağırlık değerlerinde saklı olup ağa yayılmıştır.\n",
        "\n",
        "Bu çalışmanın ilk bölümünde Model öncesi verilerin ayrılması, bias/varyans ilişkisi, düzenleme yöntemleri, girdilerin normalleştirilmesi, kaybolan/patlayan gradyan durumları, parametreler ve hiper parametrelere konularına değinilecektir. \n",
        "\n",
        "İkinci bölümde ise algoritmamız için gereken paketler ve genel metodolojiden bahsedilecektir. Üçüncü bölümde uygulamamız için gerekli olan fonksiyonların çalışma prensipleri ve python dilinde bunların nasıl uygulanacağı gösterilecektir. \n",
        "\n",
        "Dördüncü bölümde ise Modelimizin uygulamasını yapacağız. Önce iki katmanlı bir yapay sinir ağı ile basitçe sistemin nasıl çalıştığını göstereceğiz. Burada etiketlenmiş kedi resimlerinden ve kedi bulunmayan resimler ile algoritmamızı deneyeceğiz.  Aynı veri seti ile çok katmanlı bir yapay sinir ağında asıl uygulamamızı yapacağız. \n",
        "\n",
        "Son olarak sonuçlarımızı analiz ederek kendinize ait bir resim ile eğitilmiş algoritmamızı deneyebileceksiniz. Bütün uygulama Google Colab üzerinde yazılmıştır. Uygulamaya ait veri setine yazara ait github hesabından (https://github.com/mavzersener/derin_ogrenme) ulaşarak kendi uygulamanız için kullanabilirsiniz. \n",
        "\n",
        "**Çalışmada Kullanılan Notasyonlar:**\n",
        "- Üst simge $[l]$ ile $l^{inci}$ katman belirtilmektedir. \n",
        "    - Örnek: $a^{[L]}$ ile $L^{inci}$ katman aktivasyon değeri. $W^{[L]}$ ve $b^{[L]}$ ise $L^{inci}$ katman parametreleridir.\n",
        "- Üst simge $(i)$ ile $i^{nci}$ örneğin sayısını göstermektedir. \n",
        "    - Örnek: $x^{(i)}$ ile $i^{nci}$ eğitim örneği gösterilmektedir.\n",
        "- Altsimge $i$ ile $i^{nci}$ vektör kaydını belirtir.\n",
        "    - Örnek: $a^{[l]}_i$ ile  $l^{inci}$ katmanın $i^{nci}$ aktivasyon kaydı gösterilmektedir."
      ]
    },
    {
      "cell_type": "markdown",
      "metadata": {
        "id": "4rqZW5xb8KOT"
      },
      "source": [
        "**İngilizceden yapılan çevirilerde kullanılan terimler**\r\n",
        "\r\n",
        "- Gözetimli Öğrenme: Supervised Learning\r\n",
        "- Öğrenme Oranı : Learning Rate\r\n",
        "- Girdiler: Arguments \r\n",
        "- Çıktı: Output \r\n",
        "- Maliyet: Cost\r\n",
        "- İleri Yayılım: Forward propagation\r\n",
        "- Geriye Yayılım: Back Propagation \r\n",
        "- Yitim : Loss\r\n",
        "- Derin Sinir Ağı: Deep Neural Network\r\n",
        "- Boyut: Size\r\n",
        "- Şekil: Shape\r\n",
        "- Gradyan: Gradient\r\n",
        "- Sabit: Consistent"
      ]
    },
    {
      "cell_type": "markdown",
      "metadata": {
        "id": "px59Uf48Erae"
      },
      "source": [
        "# 1. Temel Unsurlar"
      ]
    },
    {
      "cell_type": "markdown",
      "metadata": {
        "id": "sfunW5W86zwK"
      },
      "source": [
        "## 1.1. **Model öncesi Verilerin ayrılması**\r\n",
        "\r\n",
        "Veri setimizin Train / Validation / Test olarak bölünme işlemi\r\n",
        "\r\n",
        "Uygulamanın en başında bütün doğru hiperparametrelere ulaşmak imkansızdır.\r\n",
        "Bu sebepten dolayı uygulama şu döngüde yapılmalıdır:\r\n",
        "\r\n",
        " **Fikir ==> Kodlama ==> Deneme**\r\n",
        "\r\n",
        "Bu döngüyü en ideal hiperparametrelere ulaşıncaya kadar devam ettiriyoruz. Bu denemelerde veri setimizi üç parçaya ayırıyoruz:\r\n",
        "\r\n",
        "\r\n",
        "1.   Eğitim seti. (Bu veri setimiz modelimizi eğitmek için kullanılacağından en büyük set olmalıdır)\r\n",
        "2.   Doğrulama seti\r\n",
        "3.   Test için kullanılacak veri seti \r\n",
        "\r\n",
        "Modelimizi oluştururken eğitim veri setini kullanılyoruz. Daha sonra hiper parametrelerimizi olabildiğince optimize etmek için Doğrulama setinden yararlanıyoruz. Son olarak modelimiz hazır olunca test verimiz ile değerlendirme yapıyoruz.\r\n",
        "\r\n",
        "Model için veri setimizi ayırmak için kesin kurallar olmasa da uygulamada genel durum şu şekildedir:\r\n",
        "* Eğer veri seti boyutu 100 ile 1.000.000 arasında ise \r\n",
        "  \r\n",
        "  ==> 60 Train /20 Valid/ 20 Test\r\n",
        "* Eğer veri seti boyutu 1.000.000'den daha büyükse \r\n",
        "\r\n",
        "  ==> 98/1/1 veya 99.5/ 0.25/ 0.25\r\n",
        "\r\n",
        "Görüldüğü üzere eğitim için en büyük veri setini ayırıyoruz. Ancak Modelin sağlıklı çalışması için Doğrulama ve Test veri setinin aynı dağılıma sahip olmasına dikkat etmemiz gerekiyor. \r\n",
        "\r\n",
        "Örnek olarak eğer kedi tanıma modelimizin eğitim resimleri web'ten alınmış ise  valid/test resimlerimizin kaynağının kullanıcıların cep telefonlarından gelmesi durumunda uyumsuzluk oluşacaktır."
      ]
    },
    {
      "cell_type": "markdown",
      "metadata": {
        "id": "ZRE96ywx7d3L"
      },
      "source": [
        "## 1.2. **Bias / Varyans**\r\n",
        "\r\n",
        "Bias / Varyans teknikleri öğrenmesi kolay ancak ustalaşması zor tekniklerdir. Şimdi bias / Varyans ilişkisini açıklayalım:\r\n",
        "  - Eğer modeliniz yetersiz uyumda ise (underfitting) (non lineer datanın logistik regresyonu) o zaman yüksek bias sorunu vardır (high bias).\r\n",
        "  - Eğer modeliniz fazla uyumlu ise (overfittig) o zaman ise yüksek varyans (high variance) problemi bulunmaktadır.\r\n",
        "  - Modelinizde  Bias / Varyans dengesi olmalıdır.\r\n",
        "  Bu durumu tespit etmek için etkili bir yöntem 2D grafikleri kullanmaktır ancak daha kolay anlaşılması için bir kaç örnek verelim:\r\n",
        "  - Yüksek varyans (overfitting):\r\n",
        "    - Eğitim hatası: 1%\r\n",
        "    - Valid hatası : 11%\r\n",
        "  - Yüksek Bias (underfitting):\r\n",
        "    - Eğitim hatası: 15%\r\n",
        "    - Valid hatası : 14%\r\n",
        "  - Yüksek Bias (underfitting) && Yüksek varyans (overfitting) :\r\n",
        "    - Eğitim hatası: 15%\r\n",
        "    - Test hatası: 30%\r\n",
        "  - İdeal olan:\r\n",
        "    - Eğitim hatası: 0.5%\r\n",
        "    - Test hatası: 1%\r\n",
        "  - Bu varsayımlar insan hatasının 0% temelinde yapılmaktadır. Eğer problem yukarıdaki gibi değilse insan hatasına bakmak gerekir.\r\n",
        "\r\n",
        "  <img src=\"https://github.com/mavzersener/derin_ogrenme/blob/master/images/bias_varyans.png?raw=1\" style=\"width:800px;height:500px;\">\r\n",
        "<caption><b> Şekil: 1  Bias / Varyans </b></caption><br>\r\n",
        "\r\n"
      ]
    },
    {
      "cell_type": "markdown",
      "metadata": {
        "id": "OfdZEXak7fLO"
      },
      "source": [
        "**Makine Öğrenmesi için Basit Reçete**\r\n",
        "\r\n",
        "- Eğer algoritma yüksek bias'a sahipse:\r\n",
        "  - Sinir Ağını büyütmeyi deneyin (Gizli birim sayısı, katman sayısı)\r\n",
        "  - Veri setinize uygun farklı bir model deneyin.\r\n",
        "  - Algoritmayı daha uzun süre çalıştırın.\r\n",
        "  - Farklı (advanced) optimizasyon algoritmaları kullanın.\r\n",
        "- Eğer algoritmanız yüksek varyansa sahipse:\r\n",
        "  - Daha fazla veri kullanın.\r\n",
        "  - Düzenleme deneyin (regularization).\r\n",
        "  - Veri setinize uygun farklı bir model deneyin.\r\n",
        "- Düşük Bias ve düşük varyans elde edene kadar yukarıdaki adımları tekrarlamalısınız.\r\n",
        "- Derin öğrenmenin ilk zamanlarında Bias/Varyans pazarlığı olurdu ancak günümüzde daha fazla seçenek/araç olduğu için bias varyans problemi daha kolay çözülebilir. Derin öğrenmenin kendisi de varyans problemine bir çözümdür. Büyük veriler ile çalışmanın asla bir zararı olmaz."
      ]
    },
    {
      "cell_type": "markdown",
      "metadata": {
        "id": "LPMl5eUw7scd"
      },
      "source": [
        "## 1.3. Düzenleme (Regularization)\r\n",
        "\r\n",
        "- Sinir Ağlarında düzenleme uygulama varyansı azaltacaktır  (overfitting)\r\n",
        "- L1 matriks normu:\r\n",
        "  - `||W|| = Sum(|w[i,j]|)  # bütün w değerlerinin toplamının mutlak değeri`\r\n",
        "- L2 matriks normu, Frobenius normu olarak da adlandırılır:\r\n",
        "  - `||W||^2 = Sum(|w[i,j]|^2)\t# bütün w karelerin toplamı`\r\n",
        "  - Bir diğer hesap yöntemi `||W||^2 = W.T * W - Eğer W bir vektörse`\r\n",
        "- Lojistik Regresyon için Düzenleme:\r\n",
        "  - Küçültmek istediğimiz maliyet fonksiyonu normalde:\r\n",
        "  \r\n",
        "   `J(w,b) = (1/m) * Sum(L(y(i),y'(i)))`\r\n",
        "  - L2 düzenleme versiyonu:\r\n",
        "  \r\n",
        "   `J(w,b) = (1/m) * Sum(L(y(i),y'(i))) + (lambda/2m) * Sum(|w[i]|^2)`\r\n",
        "  - L1 düzenleme versiyonu:\r\n",
        "  \r\n",
        "   `J(w,b) = (1/m) * Sum(L(y(i),y'(i))) + (lambda/2m) * Sum(|w[i]|)`\r\n",
        "  - L1 düzenleme versiyonu bir çok w değerini sıfır yaptığı için modelin büyüklüğünün azalmasının sağlar.\r\n",
        "  - L2 düzenlemesi daha çok kullanılmaktadır.\r\n",
        "  - Buradaki `lambda` düzenleme parametresidir (hiper parametre)\r\n",
        "- Yapay Sinir Ağı için Düzenleme:\r\n",
        "  - Küçültmek istediğimiz maliyet fonksiyonu normalde:   \r\n",
        "\r\n",
        "    `J(W1,b1...,WL,bL) = (1/m) * Sum(L(y(i),y'(i)))`\r\n",
        "\r\n",
        "  - L2 düzenleme versiyonu:   \r\n",
        "\r\n",
        "    `J(w,b) = (1/m) * Sum(L(y(i),y'(i))) + (lambda/2m) * Sum((||W[l]||^2)`\r\n",
        "\r\n",
        "  - Matrisi burada bir vektör olarak düzenliyoruz `(mn,1)` ve daha sonra `sqrt(w1^2 + w2^2.....)` uyguluyoruz\r\n",
        "\r\n",
        "  - Geriye yayılımın klasik yolu:   \r\n",
        "\r\n",
        "    `dw[l] = (geriye yayılımdaki)`\r\n",
        "\r\n",
        "  - Yeni yöntem ise:\r\n",
        "\r\n",
        "    `dw[l] = (geriye yayılımdaki) + lambda/m * w[l]`\r\n",
        "\r\n",
        "  - Dolayısıyla bunu ağırlıkların güncellenmesi adımına uygularsak:\r\n",
        "\r\n",
        "    - ```\r\n",
        "      w[l] = w[l] - learning_rate * dw[l]\r\n",
        "           = w[l] - learning_rate * ((geri yayılımdaki) + lambda/m * w[l])\r\n",
        "           = w[l] - (learning_rate*lambda/m) * w[l] - learning_rate * (geriye yayılımdaki) \r\n",
        "           = (1 - (learning_rate*lambda)/m) * w[l] - learning_rate * (geriye yayılımdaki)\r\n",
        "      ```\r\n",
        "\r\n",
        "  - Bu uygulamada büyük ağırlıklar cezalandırılıyor ve etkin bir şekilde modelinizin büyüklüğünü sınırlandırılıyor.\r\n",
        "\r\n",
        "  - Yeni terim `(1 - (learning_rate*lambda)/m) * w[l]`   **ağırlığın boyutuyla orantılı olarak azalmasına** neden oluyor. \r\n",
        "\r\n",
        "### Düzenleme neden overfitting'i azaltır?\r\n",
        "\r\n",
        "İşte bazı nedenler:\r\n",
        "     - Eğer `lambda` Çok büyükse - bir çok  w sıfıra yakın olacak ki bu sinir ağını daha basit bir hale getirecektir (bunu sinir ağının lojistik regresyona daha benzer çalışacağını şeklinde düşünebilirsiniz).\r\n",
        "     - Eğer `lambda` yeterince iyiyse sadece bir kaç ağırlığı düşürecektir ki bu yapay sinir ağının overfit yapacaktır.\r\n",
        "  - tanh_ aktivasyon fonksiyonu ile kullanıldığında\r\n",
        "     - Eğer `lambda` çok büyükse, w değerleri çok küçük olacaktır (sıfıra yakın) - bu da yapay sinir ağımızı lineer bir sınıflandırıcıya doğru kaydıracaktır.\r\n",
        "     - Eğer `lambda` yeterince iyi ise tanh aktivasyonu çok az lineer yapacak ve overfitting engellenmiş olacaktır.\r\n",
        "     \r\n",
        "_**Uygulama için Öneri**_: Eğer gradient descent uygularsanız, bunda hata ayıklama adımlarınından birisi gradient descent'in her iterasyonunda maliyet fonksiyonunun (J) grafiğini çizdirmektir. Burada malyet fonksiyonunun düzenleme ile birlikte düzgün bir şekilde azaldığı gözlemlenebilir."
      ]
    },
    {
      "cell_type": "markdown",
      "metadata": {
        "id": "7BJjMcz97xRl"
      },
      "source": [
        "## 1.4. Bırakma Düzenlemesi (Dropout Regularization)\r\n",
        "\r\n",
        "- Çoğu durumda L2 düzenlemesi kullanılabilir ancak kullanabileceğiniz diğer yöntem ise Bırakma Düzenlemesidir. \r\n",
        "- Bununla bazı nöronlar/ağırlıklar belli bir olasılığa göre her iterasyonda elenir.\r\n",
        "- En yaygın olarak kullanılan yönteme Ters Bırakma (Inverted dropout) ismi verilmiştir ve kodu şu şekildedir:\r\n",
        "\r\n",
        "  ```python\r\n",
        "  keep_prob = 0.8   # 0 <= keep_prob <= 1\r\n",
        "  l = 3  # Bu kod üç katmaniçin\r\n",
        "  # üretilen 0.8 küçük rakamlar bırakılacaktır. 80% kalır, 20% bırakılır\r\n",
        "  d3 = np.random.rand(a[l].shape[0], a[l].shape[1]) < keep_prob\r\n",
        "\r\n",
        "  a3 = np.multiply(a3,d3)   # sadece d3'teki değeri tut\r\n",
        "\r\n",
        "  # a3 değeri yükseltilir ki çıktının beklenen değeri düşmesin\r\n",
        "  # (a3'ün beklenen değerinin aynı kalmasını sağlar) - bu da ölçekleme problemini çözer\r\n",
        "  a3 = a3 / keep_prob       \r\n",
        "  ```\r\n",
        "- d[l]  vektörü hem ileri hem de geri yayılmada aynı şekilde kullanılır fakat her iterasyonda veya eğitim örnekleminde farklılık gösterir.\r\n",
        "- Bu yöntemi test aşamasında kullanmayız. Eğer kullanılırsa tahminler üzerinde gürültü oluşturur.\r\n",
        "\r\n"
      ]
    },
    {
      "cell_type": "markdown",
      "metadata": {
        "id": "6WNRSAF1FWMa"
      },
      "source": [
        "## 1.5. Diğer Düzenleme Yöntemleri\r\n",
        "\r\n",
        "### **Veri Arttırma (Data Augmentation)**:\r\n",
        "  - Örnek olarak bilgisayarlı görüntü işleme verilerinde:\r\n",
        "    - Resimleri yatay olarak döndürerek daha fazla veri sağlayabilirsiniz.\r\n",
        "    - Aynı şekilde rastgele pozisyon veya çevirme ile yine veri arttırılabilir.\r\n",
        "\r\n",
        "  - Bu şekilde elde edilmiş veriler aslı kadar iyi olmasa da düzenleme tekniği olarak kullanılabilir. \r\n",
        "\r\n",
        "###**Erken Durdurma (Early stopping)**:\r\n",
        "  - Bu teknikte her iterasyonda eğitim veri seti ile doğrulama veri setinin maliyetlerini aynı anda grafiğini çıkartıyoruz. Tekrarın bir noktasında doğrulama veri seti maliyeti düşmeyi bırakacak ve yükselmeye başlayacaktır.\r\n",
        "  - İşte bu nokta bizim eğitim veri seti maliyeti ve doğrulama veri seti maliyeti için en iyi noktadır. (En düşük eğitim ve doğrulama maliyeti).\r\n",
        "  - Burdaki parametreleri en iyi parametreler olarak alıyoruz.\r\n",
        "\r\n",
        "    <img src=\"https://github.com/mavzersener/derin_ogrenme/blob/master/images/Early_Stopping.png\" style=\"width:800px;height:500px;\">\r\n",
        "    \r\n",
        "  - Andrew NG tarafından Erken durdurma yerine L2 Düzenlemesi tavsiye edilmektedir. Bunun sebebi ise bu L2 hem maliyet fonksiyonunu düşürmeye çalışır hem de ortogonalizasyon yaklaşımı ile çelişen şekilde overfit olmaz.\r\n",
        "  - Erken durdurmanın avantajı ise diğer düzenleme yaklaşımlarındaki gibi bir hiperparametre (L2 düzenlemesindeki `lambda` gibi) aramak durumunda kalmamanızdır.\r\n",
        "\r\n",
        "**Modelde  Uygulaması**:\r\n",
        "  - Algoritma:\r\n",
        "    - Bir çok bağımsız modeli eğitin.\r\n",
        "    - Test zamanında sonuçlarının ortalamasını bulun.\r\n",
        "  - Bununla fazladan 2% performans alabilirsiniz.\r\n",
        "  - Genelleştirme hatasını azaltırsınız.\r\n",
        "  - Yapay Sinir ağınızın bazı anlık görüntülerini eğitimde oluştuğunda kullanabilir ve sonuçları alabilirsiniz.\r\n",
        "\r\n"
      ]
    },
    {
      "cell_type": "markdown",
      "metadata": {
        "id": "ciAoz_yq7-4_"
      },
      "source": [
        "## 1.6. Girdileri Normalleştirmek (Normalizing inputs)\r\n",
        "\r\n",
        "- Eğer girdilerinizi normalleştirirseniz eğitim sürecini oldukça hızlandırırsınız.\r\n",
        "- Normalleştirme aşağıdaki adımlarla ilerler:\r\n",
        "  1. Eğitim veri setinin ortalamasını alın:\r\n",
        "  \r\n",
        "    `mean = (1/m) * sum(x(i))`\r\n",
        "  2. Her girdiden ortalamyı çıkarın: \r\n",
        "  \r\n",
        "    `X = X - mean`\r\n",
        "     \r\n",
        "     Bu sayede verileriniz 0 etrafında merkezileşecektir.\r\n",
        "  3. Eğitim veri setinin varyasını alın:\r\n",
        "  \r\n",
        "   `variance = (1/m) * sum(x(i)^2)`\r\n",
        "  4. Varyansı normalleştirin:\r\n",
        "  \r\n",
        "   `X /= variance`\r\n",
        "- Bu adımların eğitim, doğrulama ve test veri setlerine uygulanması gerekiyor (fakat eğitim veri setinin ortalama ve varyansı kullanılarak).\r\n",
        "- Neden Normalleştiriyoruz?\r\n",
        "  - Eğer girdileri normalleştirmezsek maliyet fonksiyonu çok derin olacaktır ve şekli tutarsız (uzun) olacak bu da optimizasyon sürecini uzatacaktır.\r\n",
        "  - Ancak normalleştirme yapılırsa tam tersi olacaktır. Maliyet fonksiyonun şekli tutarlı olacaktır. 2D grafikte çember gibi simetrik olacaktır ve daha büyük öğrenme oranı (alfa) değeri kullanabiliriz ki bu optimizasyon daha da hızlandıracaktır.\r\n"
      ]
    },
    {
      "cell_type": "markdown",
      "metadata": {
        "id": "-hSsnOxx8DlR"
      },
      "source": [
        "## 1.7. Kaybolan / Patlayan Gradyanlar\r\n",
        "\r\n",
        "- Kaybolan / Patlayan gradyanlar türevleriniz çok küçük veya çok büyük olduğunda ortaya çıkar.\r\n",
        "- Sorunu anlamak için, L katmanlı derin sinir ağımız olduğunu varsayalım, bütün aktivasyon fonksiyonlarımız **lineer** olsun ve her `b = 0`\r\n",
        "  - O zaman:   \r\n",
        "    ```\r\n",
        "    Y' = W[L]W[L-1].....W[2]W[1]X\r\n",
        "    ```\r\n",
        "  - Daha sonra, eğer 2 her katmanda iki gizli birim var ise ve x1 = x2 = 1 olduğunda , şu sonuç ortaya çıkar:\r\n",
        "\r\n",
        "    ```\r\n",
        "    if W[l] = [1.5   0] \r\n",
        "              [0   1.5] (l != L çıktı katmanındaki farklı boyutlar nedeniyle )\r\n",
        "    Y' = W[L] [1.5  0]^(L-1) X = 1.5^L \t# ki çok büyük olacaktır\r\n",
        "              [0  1.5]\r\n",
        "    ```\r\n",
        "    ```\r\n",
        "    if W[l] = [0.5  0]\r\n",
        "              [0  0.5]\r\n",
        "    Y' = W[L] [0.5  0]^(L-1) X = 0.5^L \t# ki çok küçük olacaktı\r\n",
        "              [0  0.5]\r\n",
        "    ```\r\n",
        "- Son örneğimizde aktivasyonlar (aynı şekilde türevler) katmanların sayısına bağlı fonksiyon olarak üssel olarak azalacak/artacaktır.\r\n",
        "- Dolayısıyla Eğer W > I (Birim matriksi) aktivasyon ve gradyanlar patlayacaktır.\r\n",
        "- Ve Eğer W < I (Birim matriksi)  aktivasyon ve gradyanlar kaybolacaktır.\r\n",
        "- Yapılan yeni bir çalışmada Microsoft 152 katman çalıştırdı (ResNet)! ki bu gerçekten büyük bir rakam. Böyle derin bir sinir ağında eğer aktivasyon ve gradyanlar L'ye bağlı bir fonksiyon olarak üssel azalır veya artarsa o zaman değerler çok büyük ya da çok küçük bir hal alabilir. Bu durum eğitimi özellikle gradyanlarınız üssel L'den küçükse çok güç yapar. Gradient Descent çok minik adımlarla ilerler. Burda herhangi bir şeyi öğrenme çok uzun sürer."
      ]
    },
    {
      "cell_type": "markdown",
      "metadata": {
        "id": "KqT0O9QR8I0X"
      },
      "source": [
        "## 1.8. Parametreler ve Hiper parametreler\r\n",
        "- Sinir ağındaki asıl parametreler W (ağırlıklar) ve b (bias) 'dir.\r\n",
        "- Hiper parametreler (algoritmayı kontrol eden parametreler) ise:\r\n",
        " - Öğrenme Oranı (Learning rate).\r\n",
        " - İterasyon sayısı.\r\n",
        " - Gizli katman sayısı L.\r\n",
        " - Gizli birim sayısı n.\r\n",
        " - Son olarak aktivasyon fonksiyon tercihi.\r\n",
        " \r\n",
        "Bu hiper parametreleri kendiniz deneyimlemek zorundasınız.\r\n",
        "Makine öğrenmesinin ilk zamanlarında hiper parametreler de parametre olarak adlandırılıyordu ancak artık genel kullanım hiper parametre şeklindedir."
      ]
    },
    {
      "cell_type": "markdown",
      "metadata": {
        "id": "c5GsQoQTFxNf"
      },
      "source": [
        "# 2. İkinci Bölüm"
      ]
    },
    {
      "cell_type": "markdown",
      "metadata": {
        "id": "1AOopcx-4ARS"
      },
      "source": [
        "## 2.1.  Paketler"
      ]
    },
    {
      "cell_type": "markdown",
      "metadata": {
        "id": "gRn854zE4ARV"
      },
      "source": [
        "Çalışma boyunca kullanılacak paketleri uygulamaya yüklüyoruz. \n",
        "- [numpy](www.numpy.org) Python ile yapılacak bilimsel hesaplamalar için gerekli olan paket.\n",
        "- [matplotlib](http://matplotlib.org) uygulamdaki grafikler için gerekli olan paket.\n",
        "- [h5py](http://www.h5py.org) H5 dosya biçiminde kaydedilen veri setlerini kullanmak için gereken yaygın bir pakettir.\n",
        "- [PIL](http://www.pythonware.com/products/pil/) ve [scipy](https://www.scipy.org/) çalışmanın sonunda modelimizi başka bir resim ile test etmek için kullanacağımız paketlerdir.\n"
      ]
    },
    {
      "cell_type": "code",
      "metadata": {
        "id": "7QyWRnuJ4ARX"
      },
      "source": [
        "import numpy as np\n",
        "import h5py\n",
        "import matplotlib.pyplot as plt\n",
        "import scipy\n",
        "from PIL import Image\n",
        "from scipy import ndimage\n",
        "\n",
        "%matplotlib inline\n",
        "plt.rcParams['figure.figsize'] = (5.0, 4.0) # grafiklerin varsayılan ölçülerini atayalım\n",
        "plt.rcParams['image.interpolation'] = 'nearest'\n",
        "plt.rcParams['image.cmap'] = 'gray'"
      ],
      "execution_count": null,
      "outputs": []
    },
    {
      "cell_type": "markdown",
      "metadata": {
        "id": "KHqwidX_gIso"
      },
      "source": [
        "## 2.2. Genel Metodoloji\r\n",
        "\r\n",
        "Genel olarak bir model oluştururken bir Derin öğrenme metodolojisini takip ederiz:\r\n",
        "\r\n",
        "\r\n",
        "1.   Parametreleri başlatma / Hiper parametreleri tanımlama\r\n",
        "2.   Tekrar (num_iterations) miktarı kadar Döngüde:\r\n",
        "        - a. İleri Yayılım (Forward propagation)\r\n",
        "        - b. Maliyet Fonksiyonunun (cost function) Hesaplanması \r\n",
        "        - c. Geriye Doğru Yayılım\r\n",
        "        - d. Parametrelerin Güncellenmesi (parametreleri ve geriye yayılım gradyanlarını kullanarak) \r\n",
        "3. Etiketlerin tahmini için eğitilmiş parametrelerin kullanılması\r\n",
        "\r\n",
        "Şimdi uygulama için gerekli olan fonksiyonları oluşturalım."
      ]
    },
    {
      "cell_type": "markdown",
      "metadata": {
        "id": "ogk5pRBg8vtH"
      },
      "source": [
        "# 3. Fonksiyonların Oluşturulması\r\n",
        "\r\n",
        "Yapay sinir ağımızı oluşturmak için yardımcı olacak fonksiyonlarımızı yazmaya başlayalım. Bu fonksiyonlar ile yapacağımız iki katmanlı yapay sinir ağında kullanacağız. İstenirse daha fazla katmanlı yapay sinir ağında da kullanılabilir. Yaptığımız her küçük yardımcı fonksiyon çalışma içinde ayrıntılı olarak adım adım anlatılacaktır:\r\n",
        "\r\n",
        "- İki katmanlı ağımız ve daha sonra $L$-katmanlı ağımız için başlangıç parametreleri oluşturalım.\r\n",
        "- İleri yayılma modülünü uygulayalım (Aşağıda şekilde Mor ile gösterilmiştir)\r\n",
        "     - Katmanın ileri yayılma adımının LİNEER kısmını tamamlayalım ($Z^{[l]}$ olarak sonuçlanacaktır).\r\n",
        "     - AKTİVASYON fonksiyonunu (relu/sigmoid) kullanalım.\r\n",
        "     - Bu iki adımı yeni bir [LINEER->AKTİVASYON] ileri yayılma ile birleştiriyoruz.\r\n",
        "     - [LINEAR->RELU] ileri fonksiyonunu L-1 kere yığalım (Katman 1'den L-1'e kadar) ve [LINEAR->SIGMOID] son katmanda (final katmanı $L$) ekleyelim. Bu bize yeni bir L_model_forward fonksiyonu verir.\r\n",
        "- Kayıp (loss) değerinin hesaplanması.\r\n",
        "- Geriye yayılma modülünü uygulayalım (Aşağıdaki şekilde Kırmızı ile gösterilmiştir).\r\n",
        "    - Katmanın geriye yayılma adımının LİNEER kısmını tamamlıyoruz.\r\n",
        "    - Önceki iki adımı [LINEAR->ACTIVATION] geriye fonksiyonu ile birleştirelim.\r\n",
        "    - [LINEAR->RELU] ileri fonksiyonunu L-1 kere yığalım (Katman 1'den L-1'e kadar) ve [LINEAR->SIGMOID] son katmanda (final katmanı $L$) ekleyelim. Bu bize yeni bir L_model_backward fonksiyonu verir.\r\n",
        "- Son olarak parametreleri güncelleyelim.\r\n",
        "\r\n",
        "<img src=\"https://github.com/mavzersener/derin_ogrenme/blob/master/images/final%20outline.png?raw=1\" style=\"width:800px;height:500px;\">\r\n",
        "<caption><center><b> Şekil 2</b> </center></caption><br>\r\n",
        "\r\n",
        "\r\n",
        "**Not:** Her ileri fonksiyona karşılık bir geriye doğru fonksiyon vardır. Bu yüzden ileri modülün her adımında bir takım veriler önbelleğe kaydedilecektir. Önbellekteki bu veriler gradiyentlerin hesaplanması için önemlidir. Geriye yayılma modülünde bu önbellek verisi gradyanların hesabında kullanılacaktır. "
      ]
    },
    {
      "cell_type": "markdown",
      "metadata": {
        "id": "QuVN7oZ6ifkN"
      },
      "source": [
        "## 3.1. Başlangıç Parametreleri Fonksiyonu (İki Katmanlı)\r\n",
        "Ağırlık değerleri matrisi için rastgele değerler atıyoruz. Bunun için np.random.randn(shape)*0.01 ile ihtiyaç duyduğumuz büyüklükte matrisi oluşturuyoruz.\r\n",
        "Bias değerleri için ise başlangıç olarak sıfır değerlerini atıyoruz. Bunu da np.zeros(shape) ile yapıyoruz."
      ]
    },
    {
      "cell_type": "code",
      "metadata": {
        "id": "nBWwF_E0-Ba4"
      },
      "source": [
        "#   Başlangıç parametreleri fonksiyonu\r\n",
        "\r\n",
        "def initialize_parameters(n_x, n_h, n_y):\r\n",
        "    \"\"\"\r\n",
        "    Girdiler:\r\n",
        "    n_x -- girdi katmanının boyutu\r\n",
        "    n_h -- gizli katmanının boyutu\r\n",
        "    n_y -- çıktı katmanının boyutu\r\n",
        "    \r\n",
        "    Çıktılar:\r\n",
        "    parameters -- parametrelerimizi içeren python sözlüğü:\r\n",
        "                    W1 -- şekilin ağırlık matrisi (n_h, n_x)\r\n",
        "                    b1 -- şekilin bias vektörü (n_h, 1)\r\n",
        "                    W2 -- şekilin ağırlık matrisi (n_y, n_h)\r\n",
        "                    b2 -- şekilin bias vektörü (n_y, 1)\r\n",
        "    \"\"\"\r\n",
        "    \r\n",
        "    #np.random.seed(1)\r\n",
        "    \r\n",
        "    W1 = np.random.randn(n_h, n_x) * 0.01\r\n",
        "    b1 = np.zeros(shape=(n_h, 1))\r\n",
        "    W2 = np.random.randn(n_y, n_h) * 0.01\r\n",
        "    b2 = np.zeros(shape=(n_y, 1))\r\n",
        "     \r\n",
        "    assert(W1.shape == (n_h, n_x))\r\n",
        "    assert(b1.shape == (n_h, 1))\r\n",
        "    assert(W2.shape == (n_y, n_h))\r\n",
        "    assert(b2.shape == (n_y, 1))\r\n",
        "    \r\n",
        "    parameters = {\"W1\": W1,\r\n",
        "                  \"b1\": b1,\r\n",
        "                  \"W2\": W2,\r\n",
        "                  \"b2\": b2}\r\n",
        "    \r\n",
        "    return parameters  "
      ],
      "execution_count": null,
      "outputs": []
    },
    {
      "cell_type": "markdown",
      "metadata": {
        "id": "eyydXfJ9jyFr"
      },
      "source": [
        "## 3.2.  L-Katmanlı Sinir Ağı Başlangıç Fonksiyonu\r\n",
        "\r\n",
        "L-Katmanlı daha derin bir sinir ağının başlangıcı daha karmaşıktır çünkü çok daha büyük ağırlık matrisi ve bias vektörü bulunmaktadır. Fonksiyonumuz `initialize_parameters_deep`, tamamlandığında her katmanın büyüklüğünün birbirine uyumlu olduğundan emin olmamız gerekmektedir. Öncelikle $n^{[l]}$ 'in $l$ katmanındaki birim sayısı olduğunu hatırlayalım. Bu bağlamda örnek verelim. Eğer girdi değeri olan $X$'in büyüklüğü $(12288, 209)$ ise  ($m=209$ örneklem sayısı) o zaman:\r\n",
        "\r\n",
        "<table style=\"width:100%\">\r\n",
        "  <tr>\r\n",
        "        <td>  </td> \r\n",
        "        <td> <b> W'in Şekli</b></td> \r\n",
        "        <td> <b>b'nin Şekli </b></td> \r\n",
        "        <td> <b> Aktivasyon </b></td>\r\n",
        "        <td> <b> Aktivasyonun Şekli</b></td> \r\n",
        "  <tr>\r\n",
        "    \r\n",
        "  <tr>\r\n",
        "        <td> <b> Katman 1 </b></td> \r\n",
        "        <td> $(n^{[1]},12288)$ </td> \r\n",
        "        <td> $(n^{[1]},1)$ </td> \r\n",
        "        <td> $Z^{[1]} = W^{[1]}  X + b^{[1]} $ </td> \r\n",
        "        <td> $(n^{[1]},209)$ </td> \r\n",
        "  <tr>\r\n",
        "    \r\n",
        "  <tr>\r\n",
        "        <td> <b>Katman 2</b></td> \r\n",
        "        <td> $(n^{[2]}, n^{[1]})$  </td> \r\n",
        "        <td> $(n^{[2]},1)$ </td> \r\n",
        "        <td>$Z^{[2]} = W^{[2]} A^{[1]} + b^{[2]}$ </td> \r\n",
        "        <td> $(n^{[2]}, 209)$ </td> \r\n",
        "  <tr>\r\n",
        "   \r\n",
        "  <tr>\r\n",
        "        <td> $\\vdots$ </td> \r\n",
        "        <td> $\\vdots$  </td> \r\n",
        "        <td> $\\vdots$  </td> \r\n",
        "        <td> $\\vdots$</td> \r\n",
        "        <td> $\\vdots$  </td> \r\n",
        "  </tr>\r\n",
        "    \r\n",
        "  <tr>\r\n",
        "        <td> <b>Katman L-1<b> </td> \r\n",
        "        <td> $(n^{[L-1]}, n^{[L-2]})$ </td> \r\n",
        "        <td> $(n^{[L-1]}, 1)$  </td> \r\n",
        "        <td>$Z^{[L-1]} =  W^{[L-1]} A^{[L-2]} + b^{[L-1]}$ </td> \r\n",
        "        <td> $(n^{[L-1]}, 209)$ </td> \r\n",
        "    <tr>\r\n",
        "    \r\n",
        "    \r\n",
        "  <tr>\r\n",
        "        <td> <b>Katman L</b> </td> \r\n",
        "        <td> $(n^{[L]}, n^{[L-1]})$ </td> \r\n",
        "        <td> $(n^{[L]}, 1)$ </td>\r\n",
        "        <td> $Z^{[L]} =  W^{[L]} A^{[L-1]} + b^{[L]}$</td>\r\n",
        "        <td> $(n^{[L]}, 209)$  </td> \r\n",
        "    <tr>\r\n",
        "\r\n",
        "</table>\r\n",
        "\r\n",
        "Hatırlayalım Python'da $W X + b$ hesaplandığında, program doğrudan sonucu veriyor. Örneğin, eğer: \r\n",
        "\r\n",
        "$$ W = \\begin{bmatrix}\r\n",
        "    j  & k  & l\\\\\r\n",
        "    m  & n & o \\\\\r\n",
        "    p  & q & r \r\n",
        "\\end{bmatrix}\\;\\;\\; X = \\begin{bmatrix}\r\n",
        "    a  & b  & c\\\\\r\n",
        "    d  & e & f \\\\\r\n",
        "    g  & h & i \r\n",
        "\\end{bmatrix} \\;\\;\\; b =\\begin{bmatrix}\r\n",
        "    s  \\\\\r\n",
        "    t  \\\\\r\n",
        "    u\r\n",
        "\\end{bmatrix}\\tag{2}$$\r\n",
        "\r\n",
        "O zaman $WX + b$ aşağıdaki gibi olacaktır:\r\n",
        "\r\n",
        "$$ WX + b = \\begin{bmatrix}\r\n",
        "    (ja + kd + lg) + s  & (jb + ke + lh) + s  & (jc + kf + li)+ s\\\\\r\n",
        "    (ma + nd + og) + t & (mb + ne + oh) + t & (mc + nf + oi) + t\\\\\r\n",
        "    (pa + qd + rg) + u & (pb + qe + rh) + u & (pc + qf + ri)+ u\r\n",
        "\\end{bmatrix}\\tag{3}  $$"
      ]
    },
    {
      "cell_type": "markdown",
      "metadata": {
        "id": "WN1exG1Vj_Sd"
      },
      "source": [
        "** L- Katmanlı Sinir Ağının Uygulaması:**\r\n",
        "- Model yapısı *[LINEER -> RELU] $ \\times$ (L-1) -> LINEER -> SIGMOID* şeklindedir. Örneğin, $L-1$ katmanı ReLU aktivasyon fonksiyonu kullanırken takip eden çıktı katmanında sigmoid aktivasyon kodu kullanılmaktadır. \r\n",
        "- Ağırlık matrisleri için rastgele sayılar atayan bir başlangıç yapıyoruz. Bunu `np.random.rand(shape) * 0.01` ile uyguluyoruz. \r\n",
        "- Yine bias'lar için sıfır değerlerini  `np.zeros(shape)` ile atıyoruz.\r\n",
        "- Burada $n^{[l]}$, yani her katmandaki birim sayısını  `layer_dims` değişkenine kaydediyoruz.  \r\n",
        "- Aşağıda $L=1$ (bir katmanlı sinir ağı) için uygulama örneği görülmektedir. Bunu çok katmanlı ağ için genişletebiliriz (L-katmanlı Sinir Ağı).\r\n",
        "```python\r\n",
        "    if L == 1:\r\n",
        "        parameters[\"W\" + str(L)] = np.random.randn(layer_dims[1], layer_dims[0]) * 0.01\r\n",
        "        parameters[\"b\" + str(L)] = np.zeros((layer_dims[1], 1))\r\n",
        "```"
      ]
    },
    {
      "cell_type": "code",
      "metadata": {
        "id": "JiciauzWgSMG"
      },
      "source": [
        "#   initialize_parameters_deep\r\n",
        "\r\n",
        "def initialize_parameters_deep(layer_dims):\r\n",
        "    \"\"\"\r\n",
        "    Girdiler:\r\n",
        "    layer_dims -- python array biçimi (list) ağımızın her bir katmanının boyutlarını içerir\r\n",
        "    \r\n",
        "    Çıktısı:\r\n",
        "    parameterler -- parametrelerimizi içeren python sözlüğüdür \"W1\", \"b1\", ..., \"WL\", \"bL\":\r\n",
        "                    Wl -- (layer_dims[l], layer_dims[l-1]) boyutundaki ağırlık matrisi\r\n",
        "                    bl -- (layer_dims[l], 1) boyutundaki bias vektörü\r\n",
        "  \r\n",
        "\"\"\"\r\n",
        "    parameters = {}\r\n",
        "    L = len(layer_dims)            # number of layers in the network\r\n",
        "\r\n",
        "    for l in range(1, L):\r\n",
        "        parameters['W' + str(l)] = np.random.randn(layer_dims[l], layer_dims[l-1]) / np.sqrt(layer_dims[l-1]) #*0.01\r\n",
        "        parameters['b' + str(l)] = np.zeros((layer_dims[l], 1))\r\n",
        "        \r\n",
        "        assert(parameters['W' + str(l)].shape == (layer_dims[l], layer_dims[l-1]))\r\n",
        "        assert(parameters['b' + str(l)].shape == (layer_dims[l], 1))\r\n",
        "\r\n",
        "        \r\n",
        "    return parameters"
      ],
      "execution_count": null,
      "outputs": []
    },
    {
      "cell_type": "markdown",
      "metadata": {
        "id": "--pGxf-S83pA"
      },
      "source": [
        "## 3.2. Aktivasyon Fonksiyonları: SIGMOID ve RELU \r\n",
        "**Sigmoid:**  $\\sigma(Z) = \\sigma(W A + b) = \\frac{1}{ 1 + e^{-(W A + b)}}$ \r\n",
        "\r\n",
        "Bu formülü aşağıdaki fonksiyon ile sigmoid olarak tanımladık. Bu fonksiyon iki değeri geri vermektedir. Bunlar: Aktivasyon değeri \"a\" ve \"Z\" değeri (bu karşılık gelen geriye doğru fonksiyon için veri sağlayacaktır) içeren \"cache\" önbellek değeri. "
      ]
    },
    {
      "cell_type": "code",
      "metadata": {
        "id": "SoNksbrk89lg"
      },
      "source": [
        "# Sigmoid Fonksiyonu\r\n",
        "def sigmoid(Z):\r\n",
        "    \"\"\"\r\n",
        "    Numpy'da sigmoid aktivasyonunun uygulanması\r\n",
        "    \r\n",
        "    Girdiler:\r\n",
        "    Z -- herhangi bir şekildeki numpy array formatında\r\n",
        "    \r\n",
        "    Çıktılar:\r\n",
        "    A -- sigmoid(z) çıktısı, Z ile aynı şekilde\r\n",
        "    cache -- aynı şekilde Z'yi verir, geriye yayılımda kullanılacak\r\n",
        "    \"\"\"\r\n",
        "\r\n",
        "    A = 1/(1+np.exp(-Z))\r\n",
        "    cache = Z\r\n",
        "\r\n",
        "    return A, cache"
      ],
      "execution_count": null,
      "outputs": []
    },
    {
      "cell_type": "code",
      "metadata": {
        "id": "SzygDffv8_m7"
      },
      "source": [
        "# Sigmoid Back Fonksiyonu\r\n",
        "def sigmoid_backward(dA, cache):\r\n",
        "    \"\"\"\r\n",
        "    Bir tek SIGMOID biriminde geriye yaılımın uygulanması.\r\n",
        "    Girdiler:\r\n",
        "    dA -- aktivasyon sonrası gradyan, herhangi bir şekilde\r\n",
        "    cache -- 'Z' geriye yayılımın etkinliği için kaydediliyor\r\n",
        "    Çıktılar:\r\n",
        "    dZ -- Z'ye göre maliyetin gradyanı\r\n",
        "    \"\"\"\r\n",
        "\r\n",
        "    Z = cache\r\n",
        "\r\n",
        "    s = 1/(1+np.exp(-Z))\r\n",
        "    dZ = dA * s * (1-s)\r\n",
        "\r\n",
        "    assert (dZ.shape == Z.shape)\r\n",
        "\r\n",
        "    return dZ"
      ],
      "execution_count": null,
      "outputs": []
    },
    {
      "cell_type": "markdown",
      "metadata": {
        "id": "j_vSpyx09IH6"
      },
      "source": [
        "**ReLU:** ReLu fonksiyonu matematiksel gösterimi  A=RELU(Z)=max(0,Z) . Bunu aşağıdaki fonksiyon ile relu olarak tanımladık. Bu fonksiyon da iki değer döndürmektedir: Aktivasyon değeri \"A\" ve \"Z\" değeri (bu karşılık gelen geriye doğru fonksiyon için veri sağlayacaktır) içeren \"cache\" önbellek değeri."
      ]
    },
    {
      "cell_type": "code",
      "metadata": {
        "id": "1CEpV0w-9LT4"
      },
      "source": [
        "# Relu Fonksiyonu\r\n",
        "def relu(Z):\r\n",
        "    \"\"\"\r\n",
        "    RELU fonksiyonunun uygulanması.\r\n",
        "    Girdiler:\r\n",
        "    Z -- Lineer katmanın çıktısı, herhangi bir şekilde\r\n",
        "    Çıktılar:\r\n",
        "    A -- Aktivasyon sonrası parametre, Z ile aynı şekilde\r\n",
        "    cache -- \"A\" değerlerini içeren bir python sözlüğü ; geriye doğru ilerlemenin etkinliği için kaydediliyor\r\n",
        "    \"\"\"\r\n",
        "\r\n",
        "    A = np.maximum(0,Z)\r\n",
        "\r\n",
        "    assert(A.shape == Z.shape)\r\n",
        "\r\n",
        "    cache = Z \r\n",
        "    return A, cache"
      ],
      "execution_count": null,
      "outputs": []
    },
    {
      "cell_type": "code",
      "metadata": {
        "id": "eeYPuhfF9PcG"
      },
      "source": [
        "# Relu Back Fonksiyonu\r\n",
        "def relu_backward(dA, cache):\r\n",
        "    \"\"\"\r\n",
        "    Bir tek RELU biriminde geriye yaılımın uygulanması. \r\n",
        "    Girdiler:\r\n",
        "    dA -- aktivasyon sonrası gradyan, herhangi bir şekilde\r\n",
        "    cache -- 'Z' geriye yaılımın etkinliği için kaydediliyor\r\n",
        "    Çıktılar:\r\n",
        "    dZ -- Z'ye göre maliyetin gradyanı\r\n",
        "    \"\"\"\r\n",
        "\r\n",
        "    Z = cache\r\n",
        "    dZ = np.array(dA, copy=True) # just converting dz to a correct object.\r\n",
        "\r\n",
        "    # When z <= 0, you should set dz to 0 as well. \r\n",
        "    dZ[Z <= 0] = 0\r\n",
        "\r\n",
        "    assert (dZ.shape == Z.shape)\r\n",
        "\r\n",
        "    return dZ"
      ],
      "execution_count": null,
      "outputs": []
    },
    {
      "cell_type": "markdown",
      "metadata": {
        "id": "p6CIwpPukLoJ"
      },
      "source": [
        "## 3.3. İleri Yayılım Modülü\r\n",
        "\r\n",
        "**İleri Doğrusal**\r\n",
        " \r\n",
        "Parametrelerimizi başlattıktan sonra ileri yayılım modülünü başlatıyoruz. Modeli çalıştırmak için kullanacağımız basit fonksiyonlar ile başlayalım. Burada sırasıyla üç tane fonksiyon kullanıyoruz:\r\n",
        "\r\n",
        "- LINEER\r\n",
        "- LINEER -> ACTIVASYON (Aktivasyon ReLU veya Sigmoid olacak). \r\n",
        "- [LINEER -> RELU] $\\times$ (L-1) -> LINEER -> SIGMOID (bütün model)\r\n",
        "\r\n",
        "Lineer ileri modülü (Bütün örneklerde vektorize edilmiş) müteakip denklemleri hesaplamaktadır:\r\n",
        "\r\n",
        "$$Z^{[l]} = W^{[l]}A^{[l-1]} +b^{[l]}\\tag{1}$$\r\n",
        "\r\n",
        "Burada $A^{[0]} = X$. \r\n",
        "\r\n",
        "**Şimdi İleri Yayılımın Lineer kısmını oluşturalım.**:"
      ]
    },
    {
      "cell_type": "code",
      "metadata": {
        "id": "W8M2oS84gabD"
      },
      "source": [
        "#   linear_forward\r\n",
        "\r\n",
        "def linear_forward(A, W, b):\r\n",
        "    \"\"\"\r\n",
        "    Katman İleri Yayılımının Lineer Kısmının Uygulaması.\r\n",
        "\r\n",
        "    Girdiler:\r\n",
        "    A -- Bir önceki katmandan (input katmanı) gelen aktivasyonlar:  (önceki katmanın boyutu, örneklem sayısı)\r\n",
        "    W -- Matris ağırlıkları: numpy array biçimi (mevcut katmanın boyutu, önceki katmanın boyutu)\r\n",
        "    b -- bias vektörü, numpy array biçimi (mevcut katmanın boyutu, 1)\r\n",
        "\r\n",
        "    Çıktılar:\r\n",
        "    Z -- Aktivasyon fonksiyon girdisi, aynı zamanda aktivasyon öncesi parametre \r\n",
        "    cache -- \"A\", \"W\" ve \"b\" değerlerini içeren bir python sözlüğü; geriye doğru hesaplamaların etkin bir şekilde yapılması için tutulmaktadır\r\n",
        "\r\n",
        "\"\"\"\r\n",
        "    Z = W.dot(A) + b\r\n",
        "    \r\n",
        "    assert(Z.shape == (W.shape[0], A.shape[1]))\r\n",
        "    cache = (A, W, b)\r\n",
        "    \r\n",
        "    return Z, cache"
      ],
      "execution_count": null,
      "outputs": []
    },
    {
      "cell_type": "markdown",
      "metadata": {
        "id": "yJmZRdKzkg7v"
      },
      "source": [
        "## 3.4. İleri Doğru Lineer-Aktivasyon\r\n",
        "\r\n",
        "Bu bölümde iki aktivasyon fonksiyonunu kullanacağız:\r\n",
        "\r\n",
        "- **Sigmoid**: $\\sigma(Z) = \\sigma(W A + b) = \\frac{1}{ 1 + e^{-(W A + b)}}$. Bunu yukarıdaki fonksiyon ile  `sigmoid` olarak tanımladık. Bu fonksiyon  **iki** değeri geri vermektedir. Bunlar: Aktivasyon değeri \"`a`\" ve \"`Z`\" değeri (bu karşılık gelen geriye doğru fonksiyon için veri sağlayacaktır)  içeren \"`cache`\" önbellek değeri. Bu fonksiyonu kullanmak için kodumuz: \r\n",
        "``` python\r\n",
        "A, activation_cache = sigmoid(Z)\r\n",
        "```\r\n",
        "\r\n",
        "- **ReLU**: ReLu fonksiyonu matematiksel gösterimi $A = RELU(Z) = max(0, Z)$. Bunu başka bir fonksiyon ile  `relu` olarak tanımladık. Bu fonksiyon da  **iki** değer döndürmektedir: Aktivasyon değeri \"`A`\" ve \"`Z`\" değeri (bu karşılık gelen geriye doğru fonksiyon için veri sağlayacaktır)  içeren \"`cache`\" önbellek değeri. Bu fonksiyonu kullanmak için kodumuz:\r\n",
        "``` python\r\n",
        "A, activation_cache = relu(Z)\r\n",
        "```"
      ]
    },
    {
      "cell_type": "markdown",
      "metadata": {
        "id": "E-k7OLE4kn57"
      },
      "source": [
        "Daha fazla rahatlık için, iki fonksiyonu (Lineer ve Aktivasyon) grup halinde tek bir fonksiyona dönüştüreceğiz (LINEER->AKTİVASYON). Burada, Lineer ileri adımını takiben İleri aktivasyon adımı gelecek.\r\n",
        "Matematiksel gösterimi: $A^{[l]} = g(Z^{[l]}) = g(W^{[l]}A^{[l-1]} +b^{[l]})$ burada aktivasyon \"g\"  sigmoid() veya relu() olabilir. Şimdi bunu Python ile yapalım."
      ]
    },
    {
      "cell_type": "code",
      "metadata": {
        "id": "jSrZ3Jnlgbgt"
      },
      "source": [
        "# Linear_activation_forward\r\n",
        "\r\n",
        "def linear_activation_forward(A_prev, W, b, activation):\r\n",
        "    \"\"\"\r\n",
        "    İleri yayılımı LINEAR->ACTIVATION katmanı için yapalım\r\n",
        "\r\n",
        "    Girdiler:\r\n",
        "    A_prev -- önceki katmandan gelen aktivasyonlar (veya input verisi): (önceki katmanın boyutu, örneklem sayısı)\r\n",
        "    W -- Ağırlıklar matrisi: numpy array biçimi (mevcut katmanın boyutu, önceki katmanın boyutu)\r\n",
        "    b -- bias vektörü, numpy array biçimi (mevcut katmanın boyutu, 1)\r\n",
        "    activation -- bu katmanda kullanılacak aktivasyon, text string olarak kaydediliyor: \"sigmoid\" veya \"relu\"\r\n",
        "\r\n",
        "    Çıktılar:\r\n",
        "    A -- Aktivasyon fonksiyonu çıktısı, aktivasyon sonrası değer olarak da bilinir \r\n",
        "    cache -- \"linear_cache\" ve \"activation_cache\" değerlerini içeren Python sözlüğü;\r\n",
        "             geriye doğru hesaplamanın etkinliği için kaydedilmektedir\r\n",
        "    \"\"\"\r\n",
        "    \r\n",
        "    if activation == \"sigmoid\":\r\n",
        "        # Girdiler: \"A_prev, W, b\". Çıktılar: \"A, activation_cache\".\r\n",
        "        Z, linear_cache = linear_forward(A_prev, W, b)\r\n",
        "        A, activation_cache = sigmoid(Z)\r\n",
        "        \r\n",
        "    \r\n",
        "    elif activation == \"relu\":\r\n",
        "        # Girdiler: \"A_prev, W, b\". Çıktılar: \"A, activation_cache\".\r\n",
        "        Z, linear_cache = linear_forward(A_prev, W, b)\r\n",
        "        A, activation_cache = relu(Z)\r\n",
        "        \r\n",
        "    \r\n",
        "    assert (A.shape == (W.shape[0], A_prev.shape[1]))\r\n",
        "    cache = (linear_cache, activation_cache)\r\n",
        "\r\n",
        "    return A, cache"
      ],
      "execution_count": null,
      "outputs": []
    },
    {
      "cell_type": "markdown",
      "metadata": {
        "id": "iYiN-fJCkwpu"
      },
      "source": [
        "## 3.5. L-Katmanlı Model için İleri Doğru Yayılım Fonksiyonu \r\n",
        "\r\n",
        "Daha kolay olması için $L$-katmanlı sinir ağını çalıştırırken, bir önceki RELU ile (`linear_activation_forward`) işlemini, daha sonra SIGMOID ile (`linear_activation_forward`) işlemini $L-1$ kere yineleyen bir fonksiyona ihtiyaç duyarsınız.\r\n",
        "\r\n",
        "<img src=\"https://github.com/mavzersener/derin_ogrenme/blob/master/images/model_architecture_kiank.png?raw=1\" style=\"width:600px;height:300px;\">\r\n",
        "<caption><center><b> Şekil 3: [LINEAR -> RELU] $\\times$ (L-1) -> LINEAR -> SIGMOID modeli</b></center></caption><br>\r\n",
        "\r\n",
        "**Yukarıdaki modeli uygulayalım**\r\n",
        "\r\n",
        "Aşağıdaki Python kodunda, `AL` değişkeni $A^{[L]} = \\sigma(Z^{[L]}) = \\sigma(W^{[L]} A^{[L-1]} + b^{[L]})$ olarak belirtilmektedir. (Bu değişken aynı zamanda  `Yhat` olarak daha bilinmektedir ve $\\hat{Y}$ olarak gösterilir.) "
      ]
    },
    {
      "cell_type": "code",
      "metadata": {
        "id": "m44AxpCTgmDM"
      },
      "source": [
        "#   L_model_forward Fonksiyonu\r\n",
        "\r\n",
        "def L_model_forward(X, parameters):\r\n",
        "    \"\"\"\r\n",
        "    İleri yayılım için [LINEAR->RELU]*(L-1)->LINEAR->SIGMOID işlemini yapmaktadır\r\n",
        "    \r\n",
        "    Girdiler:\r\n",
        "    X -- veri, numpy array şeklinde (input boyutu, örneklemin sayısı)\r\n",
        "    parameters -- initialize_parameters_deep() çıktısı\r\n",
        "    \r\n",
        "    Çıktılar:\r\n",
        "    AL -- en son aktivasyon sonrası değer\r\n",
        "    caches -- aşağıdakilerin listesini içeren önbellek:\r\n",
        "                linear_relu_forward() 'in her önbellek değeri (toplam L-1 tane bulunmakta, 0'dan L-2'ye kadar indekslenmiş)\r\n",
        "                the cache of linear_sigmoid_forward() 'ın önbellek değeri (Bir tane bulunmakta, indeks değeri L-1)\r\n",
        "    \"\"\"\r\n",
        "\r\n",
        "    caches = []\r\n",
        "    A = X\r\n",
        "    L = len(parameters) // 2                  # sinir ağındaki katmanların sayısı\r\n",
        "    \r\n",
        "    # [LINEAR -> RELU]*(L-1) işlemini yap. \"cache\" değerini \"caches\" listesine ekle.\r\n",
        "    for l in range(1, L):\r\n",
        "        A_prev = A \r\n",
        "        A, cache = linear_activation_forward(A_prev, \r\n",
        "                                             parameters['W' + str(l)], \r\n",
        "                                             parameters['b' + str(l)], \r\n",
        "                                             activation='relu')\r\n",
        "        caches.append(cache)\r\n",
        "        \r\n",
        "    \r\n",
        "    # LINEAR -> SIGMOID işlemini yap. \"cache\" değerini \"caches\" listesine ekle.\r\n",
        "    AL, cache = linear_activation_forward(A, \r\n",
        "                                          parameters['W' + str(L)], \r\n",
        "                                          parameters['b' + str(L)], \r\n",
        "                                          activation='sigmoid')\r\n",
        "    caches.append(cache)\r\n",
        "    \r\n",
        "    assert(AL.shape == (1, X.shape[1]))\r\n",
        "            \r\n",
        "    return AL, caches"
      ],
      "execution_count": null,
      "outputs": []
    },
    {
      "cell_type": "markdown",
      "metadata": {
        "id": "fKJT9oPCk_MB"
      },
      "source": [
        "## 3.6. Cost function (Maliyet Fonksiyonu)\r\n",
        "\r\n",
        "Şimdi ileri ve geri yayılımı yapabiliriz ancak maliyeti de hesaplamamız gerekiyor. Bu sayede modelimiz gerçekten öğreniyor mu bunu kontrol edebiliriz.\r\n",
        "\r\n",
        "Aşağıdaki formülü kullanarak cross-entropy cost $J$ değerini hesaplayacağız: \r\n",
        "$$-\\frac{1}{m} \\sum\\limits_{i = 1}^{m} (y^{(i)}\\log\\left(a^{[L] (i)}\\right) + (1-y^{(i)})\\log\\left(1- a^{[L](i)}\\right)) \\tag{2}$$"
      ]
    },
    {
      "cell_type": "code",
      "metadata": {
        "id": "ZoykP9nAg6Dv"
      },
      "source": [
        "# Maliyet hesaplanması (compute_cost)\r\n",
        "\r\n",
        "def compute_cost(AL, Y):\r\n",
        "    \"\"\"\r\n",
        "    Yukarıda (2) numaralı formül ile tanımlanan maliyet fonksiyonunu uygulayalım.\r\n",
        "\r\n",
        "    Girdiler:\r\n",
        "    AL -- etiket tahminlerimize karşılık gelen olasılık vektörü, boyut(shape) (1, örneklem sayısı)\r\n",
        "    Y -- Gerçek \"label\" vektörü (Örneğin: Kedi değilse 0 , kediyse 1 ), boyut (shape) (1, örneklem sayısı)\r\n",
        "\r\n",
        "    Çıktılar:\r\n",
        "    cost -- cross-entropy maliyet\r\n",
        "   \r\n",
        "\"\"\"\r\n",
        "\r\n",
        "\r\n",
        "    m = Y.shape[1]\r\n",
        "\r\n",
        "    # AL ve y ile maliyeti hesaplıyoruz.\r\n",
        "    cost = (1./m) * (-np.dot(Y,np.log(AL).T) - np.dot(1-Y, np.log(1-AL).T))\r\n",
        "    \r\n",
        "    cost = np.squeeze(cost)      # Bu işlem ile maliyetinin şeklinin istenilen olmasını sağlıyoruz.\r\n",
        "    assert(cost.shape == ())\r\n",
        "    \r\n",
        "    return cost"
      ],
      "execution_count": null,
      "outputs": []
    },
    {
      "cell_type": "markdown",
      "metadata": {
        "id": "b5GTMiy6lMGa"
      },
      "source": [
        "## 3.7. Geriye Yayılım Modülü\r\n",
        "\r\n",
        "Aynen İleri yayılımda olduğu gibi, geriye yayılım için yardımcı fonksiyonları yazacağız. Parametrelere göre yitim fonksiyonunun gradyanını hesaplamak için geri yayılmanın kullanıldığını unutmayalım.  \r\n",
        "\r\n",
        "**Akış Şeması**: \r\n",
        "<img src=\"https://github.com/mavzersener/derin_ogrenme/blob/master/images/backprop_kiank.png?raw=1\" style=\"width:650px;height:250px;\">\r\n",
        "<caption><center><b>Şekil:4  LINEAR->RELU->LINEAR->SIGMOID için İleri ve Geri Yayılım </b> Mor olarak belirtilenler ileri yayılım ve kırmızılar ise geri yayılım aşamalarını göstermektedir</center></caption>\r\n",
        "\r\n",
        "Cebir konusunda ileri seviye bilgi olarak cebrin zircir kuralı ile $\\mathcal{L}$  yitim değerinin $z^{[1]}$ 'e göre türevinin türevini alarak Katmanlı bir ağ için aşağıdaki şekilde bulabiliriz:\r\n",
        "\r\n",
        "$$\\frac{d \\mathcal{L}(a^{[2]},y)}{{dz^{[1]}}} = \\frac{d\\mathcal{L}(a^{[2]},y)}{{da^{[2]}}}\\frac{{da^{[2]}}}{{dz^{[2]}}}\\frac{{dz^{[2]}}}{{da^{[1]}}}\\frac{{da^{[1]}}}{{dz^{[1]}}} \\tag{3} $$\r\n",
        "\r\n",
        "Gradyanı hesaplamak için $dW^{[1]} = \\frac{\\partial L}{\\partial W^{[1]}}$, zincir kuralını kullanırız ve  $dW^{[1]} = dz^{[1]} \\times \\frac{\\partial z^{[1]} }{\\partial W^{[1]}}$ değerini buluruz. Geriye yayılımda her adımda, istediğiniz gradyanı elde etmek için mevcut gradyanınızı belirli katmana karşılık gelen gradyanla çarparsınız.\r\n",
        "\r\n",
        "Eşdeğer olarak, Gradyanı hesaplamak kiçin $db^{[1]} = \\frac{\\partial L}{\\partial b^{[1]}}$, önceki zincir kuralını kullanarak $db^{[1]} = dz^{[1]} \\times \\frac{\\partial z^{[1]} }{\\partial b^{[1]}}$ hesaplanır.\r\n",
        "\r\n",
        "Şimdi ileri yayılımda olduğu gibi geri yayılımı üç adımda yapacağız:\r\n",
        "- Geriye doğru LINEER \r\n",
        "- Geriye doğru LINEER -> AKTİVASYON burada aktivasyon ReLU veya sigmoid aktivasyonun türevi alınarak hesaplanmaktadır. \r\n",
        "- Bütün model için Geriye doğru [LINEAR -> RELU] $\\times$ (L-1) -> LINEAR -> SIGMOID "
      ]
    },
    {
      "cell_type": "markdown",
      "metadata": {
        "id": "zNg7g1rAlm6C"
      },
      "source": [
        "## 3.8. Geriye Doğru Doğrusal Yayılım\r\n",
        "\r\n",
        "$l$ katmanı için, lineer kısım: $Z^{[l]} = W^{[l]} A^{[l-1]} + b^{[l]}$ (müteakiben aktivasyon).\r\n",
        "\r\n",
        "$dZ^{[l]} = \\frac{\\partial \\mathcal{L} }{\\partial Z^{[l]}}$ değerinin türevini aldığımızı ve $(dW^{[l]}, db^{[l]} dA^{[l-1]})$ değerini hesaplamak istediğimizi kabul edelim.\r\n",
        "\r\n",
        "<img src=\"https://github.com/mavzersener/derin_ogrenme/blob/master/images/linearback_kiank.png?raw=1\" style=\"width:250px;height:300px;\">\r\n",
        "<caption><center><b> Şekil 5 </b> </center></caption>\r\n",
        "\r\n",
        "İstediğimiz üç çıktı değeri olan $(dW^{[l]}, db^{[l]}, dA^{[l]})$ değerleri  $dZ^{[l]}$ girdisi ile hesaplanmaktadır. İhtiyaç duyduğumuz formüller şu şekildedir:\r\n",
        "\r\n",
        "$$ dW^{[l]} = \\frac{\\partial \\mathcal{L} }{\\partial W^{[l]}} = \\frac{1}{m} dZ^{[l]} A^{[l-1] T} \\tag{4}$$\r\n",
        "$$ db^{[l]} = \\frac{\\partial \\mathcal{L} }{\\partial b^{[l]}} = \\frac{1}{m} \\sum_{i = 1}^{m} dZ^{[l](i)}\\tag{5}$$\r\n",
        "$$ dA^{[l-1]} = \\frac{\\partial \\mathcal{L} }{\\partial A^{[l-1]}} = W^{[l] T} dZ^{[l]} \\tag{6}$$"
      ]
    },
    {
      "cell_type": "markdown",
      "metadata": {
        "id": "aCQbxzt0lt4B"
      },
      "source": [
        "**Uygulama**: Şimdi yukarıda belirtilen üç formül ile linear_backward() uygulamak için gerekli Python kodlarını yazalım."
      ]
    },
    {
      "cell_type": "code",
      "metadata": {
        "id": "8iechf-hg-TD"
      },
      "source": [
        "# linear_backward Fonksiyonu\r\n",
        "\r\n",
        "def linear_backward(dZ, cache):\r\n",
        "    \"\"\"\r\n",
        "    Bir katman için Geriye yayılımın lineer kısmını uygulayalım (Katman 1)\r\n",
        "\r\n",
        "    Girdiler:\r\n",
        "    dZ -- Lineer çıktıya göre maliyetin gradyanı (Katman 1'in)\r\n",
        "    cache -- mevcut katmandaki ileri yayılımdan gelen tuple türünde değerlerimiz (A_prev, W, b) \r\n",
        "\r\n",
        "    Çıktılar:\r\n",
        "    dA_prev -- Aktivasyona göre maliyetin gradyanı (bir önceki katmanın l-1),  A_prev ile aynı boyutta\r\n",
        "    dW -- W'e göre maliyetin gradyanı (mevcut katman l), W ile aynı boyutta\r\n",
        "    db -- b'e göre maliyetin gradyanı (mevcut katman l), b ile aynı boyutta\r\n",
        " \r\n",
        "\"\"\"\r\n",
        "\r\n",
        "    A_prev, W, b = cache\r\n",
        "    m = A_prev.shape[1]\r\n",
        "\r\n",
        "    dW = 1./m * np.dot(dZ,A_prev.T)\r\n",
        "    db = 1./m * np.sum(dZ, axis = 1, keepdims = True)\r\n",
        "    dA_prev = np.dot(W.T,dZ)\r\n",
        "    \r\n",
        "    assert (dA_prev.shape == A_prev.shape)\r\n",
        "    assert (dW.shape == W.shape)\r\n",
        "    assert (db.shape == b.shape)\r\n",
        "    \r\n",
        "    return dA_prev, dW, db"
      ],
      "execution_count": null,
      "outputs": []
    },
    {
      "cell_type": "markdown",
      "metadata": {
        "id": "73tlCulxmrq_"
      },
      "source": [
        "## 3.9. Geriye doğru Lineer Aktivasyon\r\n",
        "\r\n",
        "Sıradaki adımda, iki yardımcı fonksiyonu birleştiren bir fonksiyon yapacağız: **`linear_backward`** ve geriye doğru aktivasyon adımı olan **`linear_activation_backward`**. \r\n",
        "\r\n",
        "Burada `linear_activation_backward` işlemine yardımcı olması için iki fonksiyonumuz daha bulunmaktadır:\r\n",
        "- **`sigmoid_backward`**: SIGMOID birimi için geriye yayılım işlemini uyguluyor. Kullanım şekli:\r\n",
        "\r\n",
        "```python\r\n",
        "dZ = sigmoid_backward(dA, activation_cache)\r\n",
        "```\r\n",
        "\r\n",
        "- **`relu_backward`**: RELU birimi için geriye yayılım işlemini uyguluyor. Kullanım şekli:\r\n",
        "\r\n",
        "```python\r\n",
        "dZ = relu_backward(dA, activation_cache)\r\n",
        "```\r\n",
        "\r\n",
        "Eğer $g(.)$ aktivasyon fonksiyonu ise , \r\n",
        "`sigmoid_backward` ve `relu_backward` aşağıdaki işlemi yapmaktadır: $$dZ^{[l]} = dA^{[l]} * g'(Z^{[l]}) \\tag{7}$$.  \r\n",
        "\r\n",
        "**Uygulama**: Şimdi *LINEAR->ACTIVATION* katmanındaki geriye yayılım Python kodlamasını yapalım."
      ]
    },
    {
      "cell_type": "code",
      "metadata": {
        "id": "_03FMTZ-hF5s"
      },
      "source": [
        "#   linear_activation_backward\r\n",
        "\r\n",
        "def linear_activation_backward(dA, cache, activation):\r\n",
        "    \"\"\"\r\n",
        "     LINEAR->ACTIVATION katmanındaki geriye yayılım işlemini.\r\n",
        "    \r\n",
        "    Girdiler:\r\n",
        "    dA -- Mevcut katman l'nin aktivasyon sonrası gradyanı \r\n",
        "    cache -- Daha önce kaydettiğimiz (linear_cache, activation_cache) tuple türündeki değerler\r\n",
        "    activation -- Bu katmanda kullanılacak aktivasyon değeri, text string olarak tutulmakta: \"sigmoid\" veya \"relu\"\r\n",
        "    \r\n",
        "    Çıktılar:\r\n",
        "    dA_prev -- AKtivasyona göre maliyetin gradyanı (bir önceki katmanın l-1), A_prev ile aynı boyutta\r\n",
        "    dW -- W'e göre maliyetin gradyanı (mevcut katman l), W ile aynı boyutta\r\n",
        "    db -- b'ye göre maliyetin gradyanı (mevcut katman l), b ile aynı boyutta\r\n",
        "    \r\n",
        "  \"\"\"\r\n",
        "    linear_cache, activation_cache = cache\r\n",
        "    \r\n",
        "    if activation == \"relu\":\r\n",
        "        dZ = relu_backward(dA, activation_cache)\r\n",
        "        dA_prev, dW, db = linear_backward(dZ, linear_cache)\r\n",
        "        \r\n",
        "    elif activation == \"sigmoid\":\r\n",
        "        dZ = sigmoid_backward(dA, activation_cache)\r\n",
        "        dA_prev, dW, db = linear_backward(dZ, linear_cache)\r\n",
        "    \r\n",
        "    return dA_prev, dW, db"
      ],
      "execution_count": null,
      "outputs": []
    },
    {
      "cell_type": "markdown",
      "metadata": {
        "id": "qDJNsKnom7iK"
      },
      "source": [
        "## 3.10. Geriye Doğru L-Modeli \r\n",
        "\r\n",
        "Şimdi geriye yayılım fonksiyonumuzu bütün ağ için uygulayalım. `L_model_forward` fonksiyonunun her yinelemesinde önbelleğe (X,W,b, and z) değerlerimizi kaydettiğimizi hatırlayınız. Geriye yayılım modülünde bu değişkenleri gradyanları hesaplamak için kullanacağız. Bu yüzden  `L_model_backward` fonksiyonunda, $L$ katmanından başlayarak geriye doğru tüm gizli katmanlarda bunu tekrarlayacağız. Her adımda önbellekteki verileri $l$ katmanı için $l$ katmanı boyunca geriye doğru yayılım yapacağız. Aşağıda Şekil 5'te geriye doğru bu süreç gösterilmiştir. \r\n",
        "\r\n",
        "\r\n",
        "<img src=\"https://github.com/mavzersener/derin_ogrenme/blob/master/images/mn_backward.png?raw=1\" style=\"width:450px;height:300px;\">\r\n",
        "<caption><center><b> Şekil 6 : Geriye Doğru Yayılım </b> </center></caption>\r\n",
        "\r\n",
        "**Geriye Yayılımın Başlatılması:**\r\n",
        "\r\n",
        "Ağ boyunca geriye doğru yayılım yaparken biliyoruz ki çıktımız, \r\n",
        "$A^{[L]} = \\sigma(Z^{[L]})$. Bu yüzden Python kodumuz ile `dAL` $= \\frac{\\partial \\mathcal{L}}{\\partial A^{[L]}}$ işlemini yapmalıyız.\r\n",
        "Bunu yapmak için aşağıdaki kodu kullanıyoruz:\r\n",
        "```python\r\n",
        "dAL = - (np.divide(Y, AL) - np.divide(1 - Y, 1 - AL)) # AL'ye göre maliyetin türevi\r\n",
        "```\r\n",
        "\r\n",
        "Bu aktivasyon sonrası gradyan olan `dAL` geriye doğru giderken kullanabilirsiniz. Şekil 6'da görüldüğü gibi şimdi LINEAR->SIGMOID geriye doğru fonksiyonunda `dAL` gradyanı kullanabiliriz ki bu fonksiyonda daha önceden L_model_forward fonksiyonu ile önbelleğe alınan değerler kullanılacaktır. Bundan sonra ise bir `for` döngüsü kullanarak bütün katmanlarda  LINEAR->RELU geriye doğru fonksiyonunu kullanacağız. Bunu yaparken her bir  dA, dW, ve db değerini ise gradyanlar sözlüğüne kaydedeceğiz. Bunu yapmak için kullanılacak formül: \r\n",
        "\r\n",
        "$$grads[\"dW\" + str(l)] = dW^{[l]}\\tag{8} $$\r\n",
        "\r\n",
        "Örnek olarak,  $l=3$ için bu formülle $dW^{[l]}$ 'de `grads[\"dW3\"]` verisi kaydedilecektir.\r\n",
        "\r\n",
        "**Uygulama**: Şimdi *[LINEAR->RELU] $\\times$ (L-1) -> LINEAR -> SIGMOID* modeli için geriye yayılımı uygulayan Python kodlarını yazalım."
      ]
    },
    {
      "cell_type": "code",
      "metadata": {
        "id": "nBiGOJOPhK56"
      },
      "source": [
        "#   L_model_backward\r\n",
        "\r\n",
        "def L_model_backward(AL, Y, caches):\r\n",
        "    \"\"\"\r\n",
        "    [LINEAR->RELU] * (L-1) -> LINEAR -> SIGMOID grubu için geriye yayılımın uygulanması\r\n",
        "    \r\n",
        "    Girdiler:\r\n",
        "    AL -- Olasılık vektörü, İleri yayılımdan gelen çıktımız (L_model_forward())\r\n",
        "    Y -- true \"label\" vektörü (Örneğin Eğer Kedi değilse 0, Kediyse 1)\r\n",
        "    caches -- Aşağıdakileri içeren Önbellek listesi:\r\n",
        "                \"relu\" içeren linear_activation_forward() 'den gelen önbellek verisi  (veriler caches[l], for l in range(L-1) i.e l = 0...L-2)\r\n",
        "                \"sigmoid\" içeren linear_activation_forward()   (verileri caches[L-1])\r\n",
        "    \r\n",
        "    Çıktılar:\r\n",
        "    grads -- Gradyanları içeren sözlük\r\n",
        "             grads[\"dA\" + str(l)] = ... \r\n",
        "             grads[\"dW\" + str(l)] = ...\r\n",
        "             grads[\"db\" + str(l)] = ... \r\n",
        "    \r\n",
        "    \"\"\"\r\n",
        "    grads = {}\r\n",
        "    L = len(caches) # katman sayısı\r\n",
        "    m = AL.shape[1]\r\n",
        "    Y = Y.reshape(AL.shape) # bu satırdan sonra, Y ile AL aynı boyutta oluyor\r\n",
        "    \r\n",
        "    # Geriye yayılımı başlatalım\r\n",
        "    dAL = - (np.divide(Y, AL) - np.divide(1 - Y, 1 - AL))\r\n",
        "    \r\n",
        "    # L'inci katman (SIGMOID -> LINEAR) gradyanları. Girdiler: \"AL, Y, caches\". Çıktılar: \"grads[\"dAL\"], grads[\"dWL\"], grads[\"dbL\"]\r\n",
        "    current_cache = caches[L-1]\r\n",
        "    grads[\"dA\" + str(L)], grads[\"dW\" + str(L)], grads[\"db\" + str(L)] = linear_activation_backward(dAL, current_cache, activation = \"sigmoid\")\r\n",
        "    \r\n",
        "    for l in reversed(range(L-1)):\r\n",
        "        # l'inci katman: (RELU -> LINEAR) gradyanlar.\r\n",
        "        current_cache = caches[l]\r\n",
        "        dA_prev_temp, dW_temp, db_temp = linear_activation_backward(grads[\"dA\" + str(l + 2)], current_cache, activation = \"relu\")\r\n",
        "        grads[\"dA\" + str(l + 1)] = dA_prev_temp\r\n",
        "        grads[\"dW\" + str(l + 1)] = dW_temp\r\n",
        "        grads[\"db\" + str(l + 1)] = db_temp\r\n",
        "\r\n",
        "    return grads"
      ],
      "execution_count": null,
      "outputs": []
    },
    {
      "cell_type": "markdown",
      "metadata": {
        "id": "P7XX4PS4nIs3"
      },
      "source": [
        "## 3.11. Parametrelerin Güncellenmesi\r\n",
        "\r\n",
        "Bu bölümde gradient descent kullanarak modelin parametrelerini güncelleyeceğiz. Bunun için formülümüz: \r\n",
        "\r\n",
        "$$ W^{[l]} = W^{[l]} - \\alpha \\text{ } dW^{[l]} \\tag{9}$$\r\n",
        "$$ b^{[l]} = b^{[l]} - \\alpha \\text{ } db^{[l]} \\tag{10}$$\r\n",
        "\r\n",
        "burada $\\alpha$ öğrenme katsayımız (learning rate). Güncellenmiş parametreleri hesapladıktan sonra bunları parametre sözlüğüne kaydediyoruz. "
      ]
    },
    {
      "cell_type": "markdown",
      "metadata": {
        "id": "mB7npEoRnOCD"
      },
      "source": [
        "**Uygulama**: Şimdi `update_parameters()` fonksiyonu ile gradient descent kullanarak parametrelerimiz güncelleyelim.\r\n",
        "\r\n",
        "Bunu yaparken her katmandaki $W^{[l]}$ ve $b^{[l]}$ değerlerine gradient descent uyguluyoruz ($l = 1, 2, ..., L$). Python kodlarına bakalım."
      ]
    },
    {
      "cell_type": "code",
      "metadata": {
        "id": "mAPG4il_hXtM"
      },
      "source": [
        "#   update_parameters\r\n",
        "\r\n",
        "def update_parameters(parameters, grads, learning_rate):\r\n",
        "    \"\"\"\r\n",
        "    gradient descent kullanarak parametreleri güncelleyelim\r\n",
        "    \r\n",
        "    Girdiler:\r\n",
        "    parameters -- parametrelerimizi içeren python sözlüğü \r\n",
        "    grads -- gradyanlarımızı içeren python sözlüğü, L_model_backward çıktıları\r\n",
        "    \r\n",
        "    Çıktılar:\r\n",
        "    parameters -- güncellenmiş parametrelerimizi içeren python sözlüğü \r\n",
        "                  parameters[\"W\" + str(l)] = ... \r\n",
        "                  parameters[\"b\" + str(l)] = ...\r\n",
        "    \"\"\"\r\n",
        "    \r\n",
        "    L = len(parameters) // 2 # sinir ağındaki katman sayısı\r\n",
        "\r\n",
        "    # Her parametreyi güncelleme kuralı. For döngüsü kullanıyoruz.\r\n",
        "    for l in range(L):\r\n",
        "        parameters[\"W\" + str(l + 1)] = parameters[\"W\" + str(l + 1)] - learning_rate * grads[\"dW\" + str(l + 1)]\r\n",
        "        parameters[\"b\" + str(l + 1)] = parameters[\"b\" + str(l + 1)] - learning_rate * grads[\"db\" + str(l + 1)]\r\n",
        "        \r\n",
        "    return parameters"
      ],
      "execution_count": null,
      "outputs": []
    },
    {
      "cell_type": "markdown",
      "metadata": {
        "id": "8W2a5VdETzVG"
      },
      "source": [
        "## 3.12. Tahmin Fonksiyonu\r\n",
        "\r\n",
        "> Bu fonksiyon ile L Katmanlı Yapay sinir ağının sonucundaki tahmin değeri hesaplanıyor. Bununla ilgili python kodları aşağıdadır. \r\n",
        "\r\n",
        "\r\n",
        "\r\n"
      ]
    },
    {
      "cell_type": "code",
      "metadata": {
        "id": "P6YRBYMDTugv"
      },
      "source": [
        "def predict(X, y, parameters):\r\n",
        "    \"\"\"\r\n",
        "    L-Katman sinir ağının sonuç tahmincisi.\r\n",
        "    \r\n",
        "    Girdiler:\r\n",
        "    X -- Etiketlemek istediğimiz örneklemin veri seti\r\n",
        "    parameters -- eğitilmiş modelimizin parametreleri\r\n",
        "    \r\n",
        "    Çıktılar:\r\n",
        "    p -- Verilern X veri seti için tahmin değerleri\r\n",
        "    \"\"\"\r\n",
        "    \r\n",
        "    m = X.shape[1]\r\n",
        "    n = len(parameters) // 2 # yapar sinir ağındaki katman sayısı\r\n",
        "    p = np.zeros((1,m))\r\n",
        "    \r\n",
        "    # İleri yayılım\r\n",
        "    probas, caches = L_model_forward(X, parameters)\r\n",
        "\r\n",
        "    \r\n",
        "    # probas değerlerini 0/1 tahminlerine dönüştürelim\r\n",
        "    for i in range(0, probas.shape[1]):\r\n",
        "        if probas[0,i] > 0.5:\r\n",
        "            p[0,i] = 1\r\n",
        "        else:\r\n",
        "            p[0,i] = 0\r\n",
        "    \r\n",
        "    #Sonuçları yazdıralım  \r\n",
        "    #print (\"predictions: \" + str(p))\r\n",
        "    #print (\"true labels: \" + str(y))\r\n",
        "    print(\"Accuracy: \"  + str(np.sum((p == y)/m)))\r\n",
        "        \r\n",
        "    return p"
      ],
      "execution_count": null,
      "outputs": []
    },
    {
      "cell_type": "markdown",
      "metadata": {
        "id": "M2ZSPgstILkB"
      },
      "source": [
        "# 4. Uygulama"
      ]
    },
    {
      "cell_type": "markdown",
      "metadata": {
        "id": "0wGNjwOx9Tsl"
      },
      "source": [
        "## 4.1. Verileri Yükleme\r\n",
        "\r\n",
        "Bu çalışmada Kedi görüntülerini bulmak amacıyla \"Cat vs non-Cat\" veri setini kullanacağız. Bu veri setinde iki dosya bulunmaktadır: \r\n",
        "\r\n",
        "* Birincisi eğitim veri seti (m_train) bunda kedi (1) veya kedi değil (0) şeklinde işaretlenmiş resimler bulunmaktadır. \r\n",
        "* İkincisi ise test veri seti (m_test) aynı şekilde etiketlenmiş resimler bulunmaktadır.\r\n",
        "* Her resim (num_px, num_px, 3) şeklindedir. Buradaki 3 ise (RGB)'deki 3 kanalı göstermektedir. \r\n",
        "Verilerin sisteme yüklenmesi için bir yardımcı fonksiyon yazalım."
      ]
    },
    {
      "cell_type": "markdown",
      "metadata": {
        "id": "a33rX8r44ARa"
      },
      "source": [
        "Şimdi veri setimizi programa yükleyelim."
      ]
    },
    {
      "cell_type": "code",
      "metadata": {
        "colab": {
          "base_uri": "https://localhost:8080/"
        },
        "id": "sfZg2N4XnOFH",
        "outputId": "a91e9a43-1cd0-4027-82c7-bf76f284a32c"
      },
      "source": [
        "# Load dataset\r\n",
        "train_dataset = h5py.File('/content/drive/My Drive/Colab Notebooks/datasets/train_catvnoncat.h5', 'r')\r\n",
        "test_dataset = h5py.File('/content/drive/My Drive/Colab Notebooks/datasets/test_catvnoncat.h5', 'r')\r\n",
        "train_x_orig = np.array(train_dataset['train_set_x'][:])\r\n",
        "train_y = np.array(train_dataset['train_set_y'][:])\r\n",
        "test_x_orig = np.array(test_dataset['test_set_x'][:])\r\n",
        "test_y = np.array(test_dataset['test_set_y'][:])\r\n",
        "classes = np.array(train_dataset['list_classes'][:])\r\n",
        "# The current data dimension is (m,), we want to change it to (1, m), m represents the number of samples\r\n",
        "train_y= train_y.reshape((1, train_y.shape[0]))\r\n",
        "test_y = test_y.reshape((1, test_y.shape[0]))\r\n",
        "print(\"train set x shape :\", train_x_orig.shape)\r\n",
        "print(\"train set y shape :\", train_y.shape)\r\n",
        "print(\"test set x shape :\", test_x_orig.shape)\r\n",
        "print(\"test set y shape :\", test_y.shape)\r\n"
      ],
      "execution_count": null,
      "outputs": [
        {
          "output_type": "stream",
          "text": [
            "train set x shape : (209, 64, 64, 3)\n",
            "train set y shape : (1, 209)\n",
            "test set x shape : (50, 64, 64, 3)\n",
            "test set y shape : (1, 50)\n"
          ],
          "name": "stdout"
        }
      ]
    },
    {
      "cell_type": "markdown",
      "metadata": {
        "id": "2A-unSnC4ARe"
      },
      "source": [
        "Aşağıdaki kod ile veri setimizden rastgele  bir örnek göreceğiz. "
      ]
    },
    {
      "cell_type": "code",
      "metadata": {
        "id": "oAydq26k4ARf",
        "colab": {
          "base_uri": "https://localhost:8080/",
          "height": 283
        },
        "outputId": "21c259e6-5497-410c-8d81-3f2a26ec4b5f"
      },
      "source": [
        "# Örnek resim\n",
        "index = 10\n",
        "plt.imshow(train_x_orig[index])\n",
        "print (\"y = \" + str(train_y[0, index]) + \". It's a \" + classes[train_y[0, index]].decode(\"utf-8\") + \" picture.\")"
      ],
      "execution_count": null,
      "outputs": [
        {
          "output_type": "stream",
          "text": [
            "y = 0. It's a non-cat picture.\n"
          ],
          "name": "stdout"
        },
        {
          "output_type": "display_data",
          "data": {
            "image/png": "[encoded data removed]",
            "text/plain": [
              "<Figure size 360x288 with 1 Axes>"
            ]
          },
          "metadata": {
            "tags": [],
            "needs_background": "light"
          }
        }
      ]
    },
    {
      "cell_type": "code",
      "metadata": {
        "id": "4BD7EY-T4ARk",
        "colab": {
          "base_uri": "https://localhost:8080/"
        },
        "outputId": "ef38da2a-3b87-4db0-9e79-8bdebd0e4906"
      },
      "source": [
        "# Verisetini inceleyelim \n",
        "m_train = train_x_orig.shape[0]\n",
        "num_px = train_x_orig.shape[1]\n",
        "m_test = test_x_orig.shape[0]\n",
        "\n",
        "print (\"Eğitim veri sayısı: \" + str(m_train))\n",
        "print (\"Test veri sayısı: \" + str(m_test))\n",
        "print (\"Bütün resimlerin ebatları: (\" + str(num_px) + \", \" + str(num_px) + \", 3)\")\n",
        "print (\"train_x_orig shape: \" + str(train_x_orig.shape))\n",
        "print (\"train_y shape: \" + str(train_y.shape))\n",
        "print (\"test_x_orig shape: \" + str(test_x_orig.shape))\n",
        "print (\"test_y shape: \" + str(test_y.shape))"
      ],
      "execution_count": null,
      "outputs": [
        {
          "output_type": "stream",
          "text": [
            "Eğitim veri sayısı: 209\n",
            "Test veri sayısı: 50\n",
            "Bütün resimlerin ebatları: (64, 64, 3)\n",
            "train_x_orig shape: (209, 64, 64, 3)\n",
            "train_y shape: (1, 209)\n",
            "test_x_orig shape: (50, 64, 64, 3)\n",
            "test_y shape: (1, 50)\n"
          ],
          "name": "stdout"
        }
      ]
    },
    {
      "cell_type": "markdown",
      "metadata": {
        "id": "f74Scc4O4ARm"
      },
      "source": [
        "Genel olarak resimlerle ilgili bir ağ oluştururken ilk yapılacak işlem resimleri yeniden şekillendirerek standart bir boyuta getirmektir. Bununla ilgili Python kodları aşağıda verilmiştir.\n",
        "\n",
        "<img src=\"https://github.com/mavzersener/derin_ogrenme/blob/master/images/imvectorkiank.png?raw=1\" style=\"width:450px;height:300px;\">\n",
        "\n",
        "<caption><center><b>Şekil 7</b>: Resimden vektöre dönüştürmek <br> </center></caption>"
      ]
    },
    {
      "cell_type": "code",
      "metadata": {
        "id": "IKVxBRWx4ARn",
        "colab": {
          "base_uri": "https://localhost:8080/"
        },
        "outputId": "9eb9a0fe-5dca-4b89-eedf-056afe8339f3"
      },
      "source": [
        "# Eğitim ve test örneklerimizi yeniden şekillendirelim \n",
        "train_x_flatten = train_x_orig.reshape(train_x_orig.shape[0], -1).T   # Burada \"-1\" yeniden şekillendirme ile kalan boyutları düzleştiriyor\n",
        "test_x_flatten = test_x_orig.reshape(test_x_orig.shape[0], -1).T\n",
        "\n",
        "# Veriyi 0 ve 1 değerleri alacak şekilde standardize ediyoruz.\n",
        "train_x = train_x_flatten / 255.\n",
        "test_x = test_x_flatten / 255.\n",
        "\n",
        "print (\"train_x's shape: \" + str(train_x.shape))\n",
        "print (\"test_x's shape: \" + str(test_x.shape))\n"
      ],
      "execution_count": null,
      "outputs": [
        {
          "output_type": "stream",
          "text": [
            "train_x's shape: (12288, 209)\n",
            "test_x's shape: (12288, 50)\n"
          ],
          "name": "stdout"
        }
      ]
    },
    {
      "cell_type": "markdown",
      "metadata": {
        "id": "tXC_sSGY4ARp"
      },
      "source": [
        "Sonucunda elde edilen $12,288$ değeri $64 \\times 64 \\times 3$ olan boyutların tek bir yeniden şekillendirilmiş vektöre dönüştürülmüş halidir."
      ]
    },
    {
      "cell_type": "markdown",
      "metadata": {
        "id": "bmhVbkLC4ARr"
      },
      "source": [
        "## 4.2. Modelimizin Mimarisi\r\n",
        "\r\n",
        "Şimdi bir resmin kedi olup olmadığını tespit edebilen derin sinir ağımızı oluşturalım.\r\n",
        "\r\n",
        "İki farkli model yapacağız:\r\n",
        "- Bir 2-katmanlı sinir ağı \r\n",
        "- Bİr de Çoklu L-katmanlı derin sinir ağı\r\n",
        "\r\n",
        "Tüm işlemler sonucunda iki modeli karşılaştıracağız ve aynı zamanda  farklı $L$  değerlerini denemiş olacağız. \r\n",
        "\r\n"
      ]
    },
    {
      "cell_type": "markdown",
      "metadata": {
        "id": "e95mDIpm4ARs"
      },
      "source": [
        "## 4.2. 2-Katmanlı Sinir Ağı\n",
        "\n",
        "<img src=\"https://github.com/mavzersener/derin_ogrenme/blob/master/images/2layerNN_kiank.png?raw=1\" style=\"width:650px;height:400px;\">\n",
        "<caption><center><b>Şekil 8: 2-Katmanlı Sinir Ağı</b> <br> Modelimiz şu şekilde özetlenebilir: <b>INPUT -> LINEAR -> RELU -> LINEAR -> SIGMOID -> OUTPUT</b></center></caption>\n",
        "\n",
        "<u>Şekil 8'deki Mimarinin Detayları</u>:\n",
        "- Girdi resmimiz $(64,64,3)$ boyutlarında iken  $(12288,1)$ boyutlarında bir vektöre dönüştürülüyor. \n",
        "- Bu $[x_0,x_1,...,x_{12287}]^T$ vektör sonra $(n^{[1]}, 12288)$ boyutunda $W^{[1]}$ ağırlık matrisi ile çarpılıyor.\n",
        "- Buna bias eklenerek RELU işlemi uygularak şu vektör elde ediliyor:  $[a_0^{[1]}, a_1^{[1]},..., a_{n^{[1]}-1}^{[1]}]^T$.\n",
        "- Bu aynı süreci tekrar ediyoruz.\n",
        "- Sonuç vektörünü $W^{[2]}$ ile çarparak bias (intercept) ekleniyor. \n",
        "- Nihayetinde ise sonucun sigmoid'i alınıyor. Bu değer 0.5'ten büyükse resmi kedi olarak sınıflandırıyoruz.\n",
        "\n"
      ]
    },
    {
      "cell_type": "markdown",
      "metadata": {
        "id": "FxLVSbzxJlMx"
      },
      "source": [
        "## 4.3. Çok katmanlı (L-Katman) Derin Sinir Ağı\r\n",
        "\r\n",
        "L-Katmanlı daha derin bir sinir ağının başlangıcı daha karmaşıktır çünkü çok daha büyük ağırlık matrisi ve bias vektörü bulunmaktadır. Fonksiyonumuz `initialize_parameters_deep`, tamamlandığında her katmanın büyüklüğünün birbirine uyumlu olduğundan emin olmamız gerekmektedir. Öncelikle $n^{[l]}$ 'in $l$ katmanındaki birim sayısı olduğunu hatırlayalım. Bu bağlamda örnek verelim. Eğer girdi değeri olan $X$'in büyüklüğü $(12288, 209)$ ise  ($m=209$ örneklem sayısı) o zaman:\r\n",
        "\r\n",
        "<table style=\"width:100%\">\r\n",
        "  <tr>\r\n",
        "        <td>  </td> \r\n",
        "        <td> <b> W'in Şekli</b></td> \r\n",
        "        <td> <b>b'nin Şekli </b></td> \r\n",
        "        <td> <b> Aktivasyon </b></td>\r\n",
        "        <td> <b> Aktivasyonun Şekli</b></td> \r\n",
        "  <tr>\r\n",
        "    \r\n",
        "  <tr>\r\n",
        "        <td> <b> Katman 1 </b></td> \r\n",
        "        <td> $(n^{[1]},12288)$ </td> \r\n",
        "        <td> $(n^{[1]},1)$ </td> \r\n",
        "        <td> $Z^{[1]} = W^{[1]}  X + b^{[1]} $ </td> \r\n",
        "        <td> $(n^{[1]},209)$ </td> \r\n",
        "  <tr>\r\n",
        "    \r\n",
        "  <tr>\r\n",
        "        <td> <b>Katman 2</b></td> \r\n",
        "        <td> $(n^{[2]}, n^{[1]})$  </td> \r\n",
        "        <td> $(n^{[2]},1)$ </td> \r\n",
        "        <td>$Z^{[2]} = W^{[2]} A^{[1]} + b^{[2]}$ </td> \r\n",
        "        <td> $(n^{[2]}, 209)$ </td> \r\n",
        "  <tr>\r\n",
        "   \r\n",
        "  <tr>\r\n",
        "        <td> $\\vdots$ </td> \r\n",
        "        <td> $\\vdots$  </td> \r\n",
        "        <td> $\\vdots$  </td> \r\n",
        "        <td> $\\vdots$</td> \r\n",
        "        <td> $\\vdots$  </td> \r\n",
        "  </tr>\r\n",
        "    \r\n",
        "  <tr>\r\n",
        "        <td> <b>Katman L-1<b> </td> \r\n",
        "        <td> $(n^{[L-1]}, n^{[L-2]})$ </td> \r\n",
        "        <td> $(n^{[L-1]}, 1)$  </td> \r\n",
        "        <td>$Z^{[L-1]} =  W^{[L-1]} A^{[L-2]} + b^{[L-1]}$ </td> \r\n",
        "        <td> $(n^{[L-1]}, 209)$ </td> \r\n",
        "    <tr>\r\n",
        "    \r\n",
        "    \r\n",
        "  <tr>\r\n",
        "        <td> <b>Katman L</b> </td> \r\n",
        "        <td> $(n^{[L]}, n^{[L-1]})$ </td> \r\n",
        "        <td> $(n^{[L]}, 1)$ </td>\r\n",
        "        <td> $Z^{[L]} =  W^{[L]} A^{[L-1]} + b^{[L]}$</td>\r\n",
        "        <td> $(n^{[L]}, 209)$  </td> \r\n",
        "    <tr>\r\n",
        "\r\n",
        "</table>\r\n",
        "\r\n",
        "Hatırlayalım Python'da $W X + b$ hesaplandığında, program doğrudan sonucu veriyor. Örneğin, eğer: \r\n",
        "\r\n",
        "$$ W = \\begin{bmatrix}\r\n",
        "    j  & k  & l\\\\\r\n",
        "    m  & n & o \\\\\r\n",
        "    p  & q & r \r\n",
        "\\end{bmatrix}\\;\\;\\; X = \\begin{bmatrix}\r\n",
        "    a  & b  & c\\\\\r\n",
        "    d  & e & f \\\\\r\n",
        "    g  & h & i \r\n",
        "\\end{bmatrix} \\;\\;\\; b =\\begin{bmatrix}\r\n",
        "    s  \\\\\r\n",
        "    t  \\\\\r\n",
        "    u\r\n",
        "\\end{bmatrix}\\tag{11}$$\r\n",
        "\r\n",
        "O zaman $WX + b$ aşağıdaki gibi olacaktır:\r\n",
        "\r\n",
        "$$ WX + b = \\begin{bmatrix}\r\n",
        "    (ja + kd + lg) + s  & (jb + ke + lh) + s  & (jc + kf + li)+ s\\\\\r\n",
        "    (ma + nd + og) + t & (mb + ne + oh) + t & (mc + nf + oi) + t\\\\\r\n",
        "    (pa + qd + rg) + u & (pb + qe + rh) + u & (pc + qf + ri)+ u\r\n",
        "\\end{bmatrix}\\tag{12}  $$\r\n",
        "\r\n",
        "Çok katmanlı bir derin sinir ağını yukarıdaki gibi tasvir etmek kolay değil bu sebeple aşağıda basitleştirilmiş bir şekilde aşağıda sunulmuştur:\r\n",
        "\r\n",
        "<img src=\"https://github.com/mavzersener/derin_ogrenme/blob/master/images/LlayerNN_kiank.png?raw=1\" style=\"width:650px;height:400px;\">\r\n",
        "<caption><center><b>Şekil 9: Çok Katmanlı Derin Sinir Ağı (L-Katmanlı)</b> <br> Modelimizi şu şekilde özetleyebiliriz: <b> [LINEAR -> RELU] $\\times$ (L-1) -> LINEAR -> SIGMOID </b></center></caption>\r\n",
        "\r\n",
        "\r\n",
        "\r\n",
        "<u>Şekil 3'teki Mimarinin Detayları</u>:\r\n",
        "- Girdi resmimiz $(64,64,3)$ boyutlarında iken  $(12288,1)$ boyutlarında bir vektöre dönüştürülüyor.\r\n",
        "- Bu $[x_0,x_1,...,x_{12287}]^T$ vektör sonra $(n^{[1]}, 12288)$ boyutunda $W^{[1]}$ ağırlık matrisi ile çarpılıyor. Buna $b^{[1]}$ bias (intercept) ekleniyor. Elde edilen sonuç lineer birim olarak adlandırılıyor.\r\n",
        "- Daha sonra bu birime RELU işlemi uyguluyoruz. Bu işlem modelin mimarisine göre her $(W^{[l]}, b^{[l]})$ için tekrardan yapılıyor. \r\n",
        "- Nihayetinde ise lineer birimin sigmoid'i alınıyor. Bu değer 0.5'ten büyükse resmi kedi olarak sınıflandırıyoruz.\r\n",
        "\r\n"
      ]
    },
    {
      "cell_type": "markdown",
      "metadata": {
        "id": "mtm7AC-V4ARv"
      },
      "source": [
        "## 4.4. İki Katmanlı Sinir Ağı Uygulaması\n",
        "\n",
        "**Uygulama**:  Bir önceki bölümde tanımladığımız yardımcı fonksiyonları kullanarak aşağıdaki şekilde bir yapı oluşturacağız:\n",
        "* LINEAR -> RELU -> LINEAR -> SIGMOID*. Daha önceki fonksiyonlara veri gönderip alırken aşağıda belirtilen şekilde fonksiyonları kullanıyoruz:\n",
        "```python\n",
        "def initialize_parameters(n_x, n_h, n_y):\n",
        "    ...\n",
        "    return parameters \n",
        "def linear_activation_forward(A_prev, W, b, activation):\n",
        "    ...\n",
        "    return A, cache\n",
        "def compute_cost(AL, Y):\n",
        "    ...\n",
        "    return cost\n",
        "def linear_activation_backward(dA, cache, activation):\n",
        "    ...\n",
        "    return dA_prev, dW, db\n",
        "def update_parameters(parameters, grads, learning_rate):\n",
        "    ...\n",
        "    return parameters\n",
        "```"
      ]
    },
    {
      "cell_type": "code",
      "metadata": {
        "collapsed": true,
        "id": "hmBcZGkM4ARy"
      },
      "source": [
        "### MODELİMİZİN SABİTLERİNİ TANIMLAYALIM ####\n",
        "n_x = 12288     # num_px * num_px * 3\n",
        "n_h = 7\n",
        "n_y = 1\n",
        "layers_dims = (n_x, n_h, n_y)"
      ],
      "execution_count": null,
      "outputs": []
    },
    {
      "cell_type": "code",
      "metadata": {
        "id": "abYUtMcq4ARz"
      },
      "source": [
        "#  iKİ-KATMANLI MODELİMİZ\n",
        "\n",
        "def two_layer_model(X, Y, layers_dims, learning_rate=0.0075, num_iterations=3000, print_cost=False):\n",
        "    \"\"\"\n",
        "    İki katmanlı modelin uygulanması: LINEAR->RELU->LINEAR->SIGMOID.\n",
        "    \n",
        "    Girdiler:\n",
        "    X -- girdi verisi, boyutu (n_x, örneklem sayısı)\n",
        "    Y -- true \"label\" vektörü (içerisinde Eğer Kedi değilse 0, Kedi ise 1 değeri bulunan), boyutu (1, örneklem sayısı)\n",
        "    layers_dims -- katmanların boyutu (n_x, n_h, n_y)\n",
        "    num_iterations -- Optimize döngüsünün tekrar sayısı\n",
        "    learning_rate -- Gradient descent güncelleme kuralının Öğrenme katsayısı (learning rate) \n",
        "    print_cost -- Eğer True olarak belirtilirse, her 100 iterasyonda maliyeti gösterecek \n",
        "    \n",
        "    Çıktılar:\n",
        "    parameters --  W1, W2, b1, ve b2 değerlerini içeren bir sözlük\n",
        "    \"\"\"\n",
        "    \n",
        "    \n",
        "    grads = {}\n",
        "    costs = []                              # maliyeti takip etmek için\n",
        "    m = X.shape[1]                           # örneklem sayısı\n",
        "    (n_x, n_h, n_y) = layers_dims\n",
        "    \n",
        "    # Parametre sözlüğünü başlatalım, bunun için daha önce yazdığımız fonksiyonu çağırıyoruz\n",
        "    parameters = initialize_parameters(n_x, n_h, n_y)\n",
        "    \n",
        "    # W1, b1, W2 ve b2 değerlerini parametre sözlüğünden al.\n",
        "    W1 = parameters[\"W1\"]\n",
        "    b1 = parameters[\"b1\"]\n",
        "    W2 = parameters[\"W2\"]\n",
        "    b2 = parameters[\"b2\"]\n",
        "    \n",
        "    # Döngümüz (gradient descent)\n",
        "\n",
        "    for i in range(0, num_iterations):\n",
        "\n",
        "        # İleri Yayılım (Forward propagation): LINEAR -> RELU -> LINEAR -> SIGMOID. Girdiler: \"X, W1, b1\". Çıktılar: \"A1, cache1, A2, cache2\".\n",
        "        A1, cache1 = linear_activation_forward(X, W1, b1, 'relu')\n",
        "        A2, cache2 = linear_activation_forward(A1, W2, b2, 'sigmoid')\n",
        "        \n",
        "        # Maliyetin Hesaplanması\n",
        "        cost = compute_cost(A2, Y)\n",
        "        \n",
        "        # Geriye Yayılımı başlatalım\n",
        "        dA2 = - (np.divide(Y, A2) - np.divide(1 - Y, 1 - A2))\n",
        "        \n",
        "        # Geriye Yayılımı. Girdiler: \"dA2, cache2, cache1\". Çıktılar: \"dA1, dW2, db2; aynı zamanda dA0 (kullanılmadı), dW1, db1\".\n",
        "        dA1, dW2, db2 = linear_activation_backward(dA2, cache2, 'sigmoid')\n",
        "        dA0, dW1, db1 = linear_activation_backward(dA1, cache1, 'relu')\n",
        "        \n",
        "        # Gradyanların ayarlanması ['dWl'] dW1'e, grads['db1'] db1'e, grads['dW2'] dW2'ye, grads['db2'] db2'ye\n",
        "        grads['dW1'] = dW1\n",
        "        grads['db1'] = db1\n",
        "        grads['dW2'] = dW2\n",
        "        grads['db2'] = db2\n",
        "        \n",
        "        # Parametreleri güncelleyelim.\n",
        "        parameters = update_parameters(parameters, grads, learning_rate)\n",
        "\n",
        "        # Parametrelerden  W1, b1, W2, b2 değerlerini alalım\n",
        "        W1 = parameters[\"W1\"]\n",
        "        b1 = parameters[\"b1\"]\n",
        "        W2 = parameters[\"W2\"]\n",
        "        b2 = parameters[\"b2\"]\n",
        "        \n",
        "        # Her 100 eğitim örneğinde bir maliyeti yazdır\n",
        "        if print_cost and i % 100 == 0:\n",
        "            print(\"Cost after iteration {}: {}\".format(i, np.squeeze(cost)))\n",
        "        if print_cost and i % 100 == 0:\n",
        "            costs.append(cost)\n",
        "       \n",
        "    # Maliyetin grafiğini yazdır\n",
        "\n",
        "    plt.plot(np.squeeze(costs))\n",
        "    plt.ylabel('cost')\n",
        "    plt.xlabel('iterations (per tens)')\n",
        "    plt.title(\"Learning rate =\" + str(learning_rate))\n",
        "    plt.show()\n",
        "    \n",
        "    return parameters"
      ],
      "execution_count": null,
      "outputs": []
    },
    {
      "cell_type": "markdown",
      "metadata": {
        "id": "h98Y3td94AR2"
      },
      "source": [
        "Aşağıdaki kodu parametreleri eğitmek için çalıştıralım. Sonucunda maliyetin düşmesi gerekiyor. 2500 iterasyon için gerekli olan süre yaklaşık olarak 5 dakikadır. \"Cost after iteration 0\" değerimiz beklenen değer ile uyuşup uyuşmadığını kontrol ederek program hakkında geri dönüş alabilirsiniz. Eğer beklenen değerlere ulaşmadı ise (⬛) şeklindeki kareye basarak çalışmayı durdurun ve hata varsa kontrol edelim."
      ]
    },
    {
      "cell_type": "code",
      "metadata": {
        "id": "7joOhhYt4AR3",
        "colab": {
          "base_uri": "https://localhost:8080/",
          "height": 701
        },
        "outputId": "adbe2b75-b1d9-4c7d-803a-b86f551c141c"
      },
      "source": [
        "parameters = two_layer_model(train_x, train_y, layers_dims = (n_x, n_h, n_y), num_iterations = 2500, print_cost=True)"
      ],
      "execution_count": null,
      "outputs": [
        {
          "output_type": "stream",
          "text": [
            "Cost after iteration 0: 0.6931095965797196\n",
            "Cost after iteration 100: 0.6462527492239712\n",
            "Cost after iteration 200: 0.6329721767074216\n",
            "Cost after iteration 300: 0.6029282532337265\n",
            "Cost after iteration 400: 0.5594423860047298\n",
            "Cost after iteration 500: 0.5167311456159258\n",
            "Cost after iteration 600: 0.4775126805102131\n",
            "Cost after iteration 700: 0.424291289673379\n",
            "Cost after iteration 800: 0.3865314827954213\n",
            "Cost after iteration 900: 0.3476363612292267\n",
            "Cost after iteration 1000: 0.3349755647597062\n",
            "Cost after iteration 1100: 0.2936573558526964\n",
            "Cost after iteration 1200: 0.2694808899820105\n",
            "Cost after iteration 1300: 0.21418646133614885\n",
            "Cost after iteration 1400: 0.16248725615542464\n",
            "Cost after iteration 1500: 0.15655588939118106\n",
            "Cost after iteration 1600: 0.13939455407975035\n",
            "Cost after iteration 1700: 0.1132964429110816\n",
            "Cost after iteration 1800: 0.07928364594343794\n",
            "Cost after iteration 1900: 0.06933347767045499\n",
            "Cost after iteration 2000: 0.05936883551915788\n",
            "Cost after iteration 2100: 0.05268229442902373\n",
            "Cost after iteration 2200: 0.046295776467648084\n",
            "Cost after iteration 2300: 0.04115232977174943\n",
            "Cost after iteration 2400: 0.03661302188357324\n"
          ],
          "name": "stdout"
        },
        {
          "output_type": "display_data",
          "data": {
            "image/png": "[encoded data removed]",
            "text/plain": [
              "<Figure size 360x288 with 1 Axes>"
            ]
          },
          "metadata": {
            "tags": [],
            "needs_background": "light"
          }
        }
      ]
    },
    {
      "cell_type": "markdown",
      "metadata": {
        "id": "xENHHEsQ4AR4"
      },
      "source": [
        "**Beklenen Çıktı**:\n",
        "<table> \n",
        "    <tr>\n",
        "        <td> **Cost after iteration 0**</td>\n",
        "        <td> 0.693049735659989 </td>\n",
        "    </tr>\n",
        "    <tr>\n",
        "        <td> **Cost after iteration 100**</td>\n",
        "        <td> 0.6464283150388817 </td>\n",
        "    </tr>\n",
        "    <tr>\n",
        "        <td> **...**</td>\n",
        "        <td> ... </td>\n",
        "    </tr>\n",
        "    <tr>\n",
        "        <td> **Cost after iteration 2400**</td>\n",
        "        <td> 0.04950829635846386 </td>\n",
        "    </tr>\n",
        "</table>"
      ]
    },
    {
      "cell_type": "markdown",
      "metadata": {
        "id": "aPD8GnZd4AR6"
      },
      "source": [
        "Yaptığımız işlemi vektörize etmeseydik yaklaşık 10 kat daha fazla gerekecekti. Şimdi eğitilmiş parametrelerimizi veri setindeki resimleri sınıflandırmak için kullanabiliriz."
      ]
    },
    {
      "cell_type": "code",
      "metadata": {
        "id": "y7C8XhD34AR7",
        "colab": {
          "base_uri": "https://localhost:8080/"
        },
        "outputId": "a82881f2-5247-4514-8ce9-537f1cf1dbd0"
      },
      "source": [
        "predictions_train = predict(train_x, train_y, parameters)"
      ],
      "execution_count": null,
      "outputs": [
        {
          "output_type": "stream",
          "text": [
            "Accuracy: 0.9999999999999998\n"
          ],
          "name": "stdout"
        }
      ]
    },
    {
      "cell_type": "markdown",
      "metadata": {
        "id": "oScDifKz4AR8"
      },
      "source": [
        "**Beklenen Çıktı**:\n",
        "<table> \n",
        "    <tr>\n",
        "        <td> **Accuracy**</td>\n",
        "        <td> 1.0 </td>\n",
        "    </tr>\n",
        "</table>"
      ]
    },
    {
      "cell_type": "code",
      "metadata": {
        "scrolled": true,
        "id": "ctAfmhCs4AR9",
        "colab": {
          "base_uri": "https://localhost:8080/"
        },
        "outputId": "b6cdeb86-f80d-4b66-98c3-c9b86936bed6"
      },
      "source": [
        "predictions_test = predict(test_x, test_y, parameters)"
      ],
      "execution_count": null,
      "outputs": [
        {
          "output_type": "stream",
          "text": [
            "Accuracy: 0.7000000000000001\n"
          ],
          "name": "stdout"
        }
      ]
    },
    {
      "cell_type": "markdown",
      "metadata": {
        "id": "Vt94h4Z14AR_"
      },
      "source": [
        "**Beklenen Çıktı**:\n",
        "\n",
        "<table> \n",
        "    <tr>\n",
        "        <td> **Accuracy**</td>\n",
        "        <td> 0.72 </td>\n",
        "    </tr>\n",
        "</table>"
      ]
    },
    {
      "cell_type": "markdown",
      "metadata": {
        "id": "Y9rNOSnY4ASD"
      },
      "source": [
        "## 4.5. Çok Katmanlı (L-Katman) Derin Sinir Ağı Uygulaması\n",
        "\n",
        "Daha önce yaptığımız yardımcı fonksiyonları kullanarak aşağıdaki mimari ile uygulamamızı yapacağız:\n",
        "* [LINEAR -> RELU]$\\times$(L-1) -> LINEAR -> SIGMOID*. \n",
        "Daha önceki fonksiyonları aşağıdaki şekilde kullanacağız:\n",
        "\n",
        "```python\n",
        "def initialize_parameters_deep(layer_dims):\n",
        "    ...\n",
        "    return parameters \n",
        "def L_model_forward(X, parameters):\n",
        "    ...\n",
        "    return AL, caches\n",
        "def compute_cost(AL, Y):\n",
        "    ...\n",
        "    return cost\n",
        "def L_model_backward(AL, Y, caches):\n",
        "    ...\n",
        "    return grads\n",
        "def update_parameters(parameters, grads, learning_rate):\n",
        "    ...\n",
        "    return parameters\n",
        "```"
      ]
    },
    {
      "cell_type": "code",
      "metadata": {
        "collapsed": true,
        "id": "lyms-ZFU4ASE"
      },
      "source": [
        "### SABİTLERİMİZ ###\n",
        "layers_dims = [12288, 20, 5, 8, 1] #  5-KATMANLI MODEL"
      ],
      "execution_count": null,
      "outputs": []
    },
    {
      "cell_type": "code",
      "metadata": {
        "id": "UauYwnYt4ASF"
      },
      "source": [
        " # L_layer_model\n",
        "\n",
        "def L_layer_model(X, Y, layers_dims, learning_rate=0.0075, num_iterations=2500, print_cost=False): #lr was 0.009\n",
        "    \"\"\"\n",
        "    Çok katmanlı sinir ağının uygulanması: [LINEAR->RELU]*(L-1)->LINEAR->SIGMOID.\n",
        "    \n",
        "    Girdiler:\n",
        "    X -- veri, numpy array biçiminde ve şekli (number of examples, num_px * num_px * 3)\n",
        "    Y -- true \"label\" vektörü (Kedi değilse 0 , Kedi ise 1 verisi içerir), şekli (1, number of examples)\n",
        "    layers_dims -- Girdi boyutu ve her katmanın boyutunu içeren liste, uzunluğu (katman sayısı + 1).\n",
        "    learning_rate -- Gradient Descent güncelleme kuralının öğrenme oranı  (learning rate)\n",
        "    num_iterations -- Optimazisyon döngüsünü iterasyon sayısı\n",
        "    print_cost -- Eğer True ise her 100 adımda bir maliyeti yazdırır\n",
        "    \n",
        "    Çıktılar:\n",
        "    parameters -- model tarafından öğrenilern parametreler. Tahmin için kullanlabilir.\n",
        "    \"\"\"\n",
        "\n",
        "    \n",
        "    costs = []                         # Maliyeti takip edelim\n",
        "    \n",
        "    # Parameterleri başlatalım.\n",
        "    parameters = initialize_parameters_deep(layers_dims)\n",
        "    \n",
        "    # Döngümüz (gradient descent)\n",
        "    for i in range(0, num_iterations):\n",
        "        \n",
        "        # İleri Yayılım: [LINEAR -> RELU]*(L-1) -> LINEAR -> SIGMOID.\n",
        "        AL, caches = L_model_forward(X, parameters)\n",
        "        \n",
        "        # Maliyetin hesaplanması.\n",
        "        cost = compute_cost(AL, Y)\n",
        "    \n",
        "        # Geriye doğru yayılım.\n",
        "        grads = L_model_backward(AL, Y, caches)\n",
        " \n",
        "        # Parametreleri güncelleyelim.\n",
        "        parameters = update_parameters(parameters, grads, learning_rate)\n",
        "                \n",
        "        # Her 100 eğitim örneğinde bir maliyeti yazdır\n",
        "        if print_cost and i % 100 == 0:\n",
        "            print (\"Cost after iteration %i: %f\" % (i, cost))\n",
        "        if print_cost and i % 100 == 0:\n",
        "            costs.append(cost)\n",
        "            \n",
        "    # Maliyetin grafiği\n",
        "    plt.plot(np.squeeze(costs))\n",
        "    plt.ylabel('cost')\n",
        "    plt.xlabel('iterations (per tens)')\n",
        "    plt.title(\"Learning rate =\" + str(learning_rate))\n",
        "    plt.show()\n",
        "    \n",
        "    return parameters"
      ],
      "execution_count": null,
      "outputs": []
    },
    {
      "cell_type": "markdown",
      "metadata": {
        "id": "fZrGklQD4ASG"
      },
      "source": [
        "Şimdi modelimizi 5 Katmanlı bir sinir ağında eğitiyoruz. \n",
        "Aşağıdaki kodu parametreleri eğitmek için çalıştıralım. Sonucunda maliyetin düşmesi gerekiyor. 2500 iterasyon için gerekli olan süre yaklaşık olarak 5 dakikadır. \"Cost after iteration 0\" değerimiz beklenen değer ile uyuşup uyuşmadığını kontrol ederek program hakkında geri dönüş alabilirsiniz. Eğer beklenen değerlere ulaşmadı ise (⬛) şeklindeki kareye basarak çalışmayı durdurun ve hata varsa kontrol edelim.\n"
      ]
    },
    {
      "cell_type": "code",
      "metadata": {
        "scrolled": false,
        "id": "JOzKjjg44ASI",
        "colab": {
          "base_uri": "https://localhost:8080/",
          "height": 701
        },
        "outputId": "b38da53a-3fea-4e82-aad7-b707f547ea07"
      },
      "source": [
        "parameters = L_layer_model(train_x, train_y, layers_dims, num_iterations=2500, print_cost=True)"
      ],
      "execution_count": null,
      "outputs": [
        {
          "output_type": "stream",
          "text": [
            "Cost after iteration 0: 0.709039\n",
            "Cost after iteration 100: 0.669261\n",
            "Cost after iteration 200: 0.638230\n",
            "Cost after iteration 300: 0.576659\n",
            "Cost after iteration 400: 0.501197\n",
            "Cost after iteration 500: 0.422645\n",
            "Cost after iteration 600: 0.387053\n",
            "Cost after iteration 700: 0.342368\n",
            "Cost after iteration 800: 0.195737\n",
            "Cost after iteration 900: 0.129606\n",
            "Cost after iteration 1000: 0.150653\n",
            "Cost after iteration 1100: 0.063515\n",
            "Cost after iteration 1200: 0.047673\n",
            "Cost after iteration 1300: 0.037589\n",
            "Cost after iteration 1400: 0.029224\n",
            "Cost after iteration 1500: 0.018541\n",
            "Cost after iteration 1600: 0.014615\n",
            "Cost after iteration 1700: 0.011969\n",
            "Cost after iteration 1800: 0.010047\n",
            "Cost after iteration 1900: 0.008605\n",
            "Cost after iteration 2000: 0.007485\n",
            "Cost after iteration 2100: 0.006592\n",
            "Cost after iteration 2200: 0.005868\n",
            "Cost after iteration 2300: 0.005271\n",
            "Cost after iteration 2400: 0.004774\n"
          ],
          "name": "stdout"
        },
        {
          "output_type": "display_data",
          "data": {
            "image/png": "[encoded data removed]",
            "text/plain": [
              "<Figure size 360x288 with 1 Axes>"
            ]
          },
          "metadata": {
            "tags": [],
            "needs_background": "light"
          }
        }
      ]
    },
    {
      "cell_type": "markdown",
      "metadata": {
        "id": "CEeQmZ1Z4ASJ"
      },
      "source": [
        "**Beklenen Çıktı**:\n",
        "<table> \n",
        "    <tr>\n",
        "        <td> **Cost after iteration 0**</td>\n",
        "        <td> 0.771749 </td>\n",
        "    </tr>\n",
        "    <tr>\n",
        "        <td> **Cost after iteration 100**</td>\n",
        "        <td> 0.673350 </td>\n",
        "    </tr>\n",
        "    <tr>\n",
        "        <td> **...**</td>\n",
        "        <td> ... </td>\n",
        "    </tr>\n",
        "    <tr>\n",
        "        <td> **Cost after iteration 2400**</td>\n",
        "        <td> 0.082077 </td>\n",
        "    </tr>\n",
        "</table>"
      ]
    },
    {
      "cell_type": "code",
      "metadata": {
        "scrolled": true,
        "id": "Gi_HuFiH4ASK",
        "colab": {
          "base_uri": "https://localhost:8080/"
        },
        "outputId": "4a0ceb4e-b1e8-4a10-a611-f4a845f4bef7"
      },
      "source": [
        "pred_train = predict(train_x, train_y, parameters)"
      ],
      "execution_count": null,
      "outputs": [
        {
          "output_type": "stream",
          "text": [
            "Accuracy: 0.9999999999999998\n"
          ],
          "name": "stdout"
        }
      ]
    },
    {
      "cell_type": "markdown",
      "metadata": {
        "id": "hDkZxmbe4ASM"
      },
      "source": [
        "<table>\n",
        "    <tr>\n",
        "    <td>\n",
        "    **Train Accuracy**\n",
        "    </td>\n",
        "    <td>\n",
        "    1.0\n",
        "    </td>\n",
        "    </tr>\n",
        "</table>"
      ]
    },
    {
      "cell_type": "code",
      "metadata": {
        "id": "0mUZwOfJ4ASN",
        "colab": {
          "base_uri": "https://localhost:8080/"
        },
        "outputId": "4892c2cb-af79-4f39-94d4-8600aea7385c"
      },
      "source": [
        "pred_test = predict(test_x, test_y, parameters)"
      ],
      "execution_count": null,
      "outputs": [
        {
          "output_type": "stream",
          "text": [
            "Accuracy: 0.76\n"
          ],
          "name": "stdout"
        }
      ]
    },
    {
      "cell_type": "markdown",
      "metadata": {
        "id": "3B49O59k4ASO"
      },
      "source": [
        "**Beklenen Çıktı**:\n",
        "\n",
        "<table> \n",
        "    <tr>\n",
        "        <td> **Test Accuracy**</td>\n",
        "        <td> 0.84 </td>\n",
        "    </tr>\n",
        "</table>"
      ]
    },
    {
      "cell_type": "markdown",
      "metadata": {
        "id": "nJp-bLj04ASP"
      },
      "source": [
        "Görüldüğü üzere 5 katmanlı sinir ağımız (84%) iki katmana (72%) göre aynı testte daha iyi bir performans göstermiştir. \n",
        "\n",
        "Bu tarz bir göreve göre oldukça iyi bir performans sayılabilir. Müteakip safhada ise Derin sinir ağımızın bu performansını geliştirmek için hiperparametrelerimizi (learning_rate, layers_dims, num_iterations ve diğerleri) daha iyi hale getirmeye çalışacağız.  "
      ]
    },
    {
      "cell_type": "markdown",
      "metadata": {
        "id": "EtpX_ZSA4ASB"
      },
      "source": [
        "**Hiper Parametreler ile Başarının Yükseltilmesi:**\n",
        "**Early Stopping**: Dikkat edeceğiniz gibi daha az iterasyonla (1700 gibi) test verisinde istenen sonuçlara ulaşabiliyoruz. Erken durdurma hem işlemci yükünü azaltıyor hem de overfitting durumuna da engel oluyor.\n",
        "**Öğrenme Oranı (Learning Rate):** Bu oranı değiştirerek Test Accuracy değeri yükseltilebiliyor. Örneğin:\n",
        "> 0.0075---> Accuracy:\n",
        "> 0.009----> Accuracy: \n",
        "\n",
        "**Katman Sayısı:** Katman sayısını artırarak Yapay Sinir Ağımızın derinliğini arttırabiliriz. Örneğimzde:\n",
        "> 2 Katmanlı Ağın Accuracy: \n",
        "> 5 Katmanlı Ağın Accuracy:\n",
        "> 7 Katmanlı Ağın Accuracy:\n",
        "> 9 Katmanlı Ağın Accuracy:\n",
        "> 20 Katmanlı Ağın Accuracy:\n"
      ]
    },
    {
      "cell_type": "markdown",
      "metadata": {
        "id": "ictE3l3S4ASQ"
      },
      "source": [
        "# Sonuçların Analizi\n",
        "\n"
      ]
    },
    {
      "cell_type": "markdown",
      "metadata": {
        "id": "Iq4EogSmL3PE"
      },
      "source": [
        "## 5.1. Hatalı Sınıflandırma\r\n",
        "\r\n",
        "Öncelikle Çok Katmanlı (L-Katman) modelimiz tarafından hatalı etiketlenen resimlere bakalım. Aşağıda yanlış etiketlenmiş bazı resimler görülmektedir. "
      ]
    },
    {
      "cell_type": "code",
      "metadata": {
        "id": "TUGdMZqNTT5L"
      },
      "source": [
        "def print_mislabeled_images(classes, X, y, p):\r\n",
        "    \"\"\"\r\n",
        "    Plots images where predictions and truth were different.\r\n",
        "    X -- dataset\r\n",
        "    y -- true labels\r\n",
        "    p -- predictions\r\n",
        "    \"\"\"\r\n",
        "    a = p + y\r\n",
        "    mislabeled_indices = np.asarray(np.where(a == 1))\r\n",
        "    plt.rcParams['figure.figsize'] = (40.0, 40.0) # set default size of plots\r\n",
        "    num_images = len(mislabeled_indices[0])\r\n",
        "    for i in range(num_images):\r\n",
        "        index = mislabeled_indices[1][i]\r\n",
        "        \r\n",
        "        plt.subplot(2, num_images, i + 1)\r\n",
        "        plt.imshow(X[:,index].reshape(64,64,3), interpolation='nearest')\r\n",
        "        plt.axis('off')\r\n",
        "        plt.title(\"Prediction: \" + classes[int(p[0,index])].decode(\"utf-8\") + \" \\n Class: \" + classes[y[0,index]].decode(\"utf-8\"))"
      ],
      "execution_count": null,
      "outputs": []
    },
    {
      "cell_type": "code",
      "metadata": {
        "scrolled": false,
        "id": "QhhqwOAn4ASQ",
        "colab": {
          "base_uri": "https://localhost:8080/",
          "height": 132
        },
        "outputId": "eec9cf0a-29e2-46be-bfc0-29c46a1c2d70"
      },
      "source": [
        "print_mislabeled_images(classes, test_x, test_y, pred_test)"
      ],
      "execution_count": null,
      "outputs": [
        {
          "output_type": "display_data",
          "data": {
            "image/png": "[encoded data removed]",
            "text/plain": [
              "<Figure size 2880x2880 with 12 Axes>"
            ]
          },
          "metadata": {
            "tags": [],
            "needs_background": "light"
          }
        }
      ]
    },
    {
      "cell_type": "markdown",
      "metadata": {
        "id": "VDubPkDQ4ASS"
      },
      "source": [
        "**Aşağıdaki türdeki resimlerin model tarafından hatalı sınıflandırılma eğilimi olduğu görülüyor:** \n",
        "- Alışılmadık bir şekilde duran kediler\n",
        "- Arkaplanın kedinin rengine benzerlik gösterdiği resimler\n",
        "- Sıradışı kedi tür ve renkleri\n",
        "- Kamera açısı\n",
        "- Resmin parlaklığı\n",
        "- Ölçek farklılıkları (Kedi resimde çok büyük ya da küçük) "
      ]
    },
    {
      "cell_type": "markdown",
      "metadata": {
        "id": "_kNtkxOk4ASU"
      },
      "source": [
        "## 5.2. Başka resimler ile test edelim ##\n",
        "\n",
        "Modelimizi tamamladık şimdi veri setinde bulunmayan başka kedi resimleri ile modelimizi yeniden deneyebiliriz. Bunu yapmak için:\n",
        "    1. Notebook'ta bulunan  \"File\" sekmesini açıp  \"Open\" tıklatıyoruz.\n",
        "    2. Jupyter Notebook klasöründe \"images\" klasörüne resmi kaydediyoruz.\n",
        "    3. Aşağıdaki koddaki isimle resim dosyasının adını değiştiriyoruz.\n",
        "    4. AŞağıdaki kodu çalıştırarak algoritmamızın doğru çalışıp çalışmadığına bakabiliriz. (1 = kedi, 0 = kedi değil)."
      ]
    },
    {
      "cell_type": "code",
      "metadata": {
        "scrolled": false,
        "id": "RfJFqtEl4ASV"
      },
      "source": [
        "my_image = \"my_image.png\" # resim dosyasının adını bu şekilde yapın \n",
        "my_label_y = [1] # resmin sınıflandırılması (1 -> kedi, 0 -> kedi değil)\n",
        "\n",
        "fname = \"images/\" + my_image\n",
        "image = np.array(ndimage.imread(fname, flatten=False))\n",
        "my_image = scipy.misc.imresize(image, size=(num_px,num_px)).reshape((num_px*num_px*3,1))\n",
        "my_predicted_image = predict(my_image, my_label_y, parameters)\n",
        "\n",
        "plt.imshow(image)\n",
        "print (\"y = \" + str(np.squeeze(my_predicted_image)) + \", your L-layer model predicts a \\\"\" + classes[int(np.squeeze(my_predicted_image)),].decode(\"utf-8\") +  \"\\\" picture.\")"
      ],
      "execution_count": null,
      "outputs": []
    },
    {
      "cell_type": "markdown",
      "metadata": {
        "id": "Yl7ko9Wh4ASY"
      },
      "source": [
        "# **Kaynakça**\n",
        "\n",
        "- Neural Networks and Deep Learning, Andrew Ng, Kian Katanforoosh, Younes Bensouda Mourri, https://www.coursera.org/learn/neural-networks-deep-learning, 2021\n",
        "- Yapay sinir ağlar, Ercan Öztemel, Papatya Yayıncılık, Istanbul, 2003\n",
        "- Veri Seti ve Kodlar için, https://github.com/mavzersener/derin_ogrenme. \n"
      ]
    }
  ]
}